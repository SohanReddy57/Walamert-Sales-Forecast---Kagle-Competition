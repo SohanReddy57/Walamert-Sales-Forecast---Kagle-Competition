{
 "cells": [
  {
   "cell_type": "markdown",
   "metadata": {
    "id": "ibeIzOHVelqa"
   },
   "source": [
    "# Problem Statement\n",
    "\n",
    "Sales forecasting is an essential process for retail businesses to develop strategies that meet consumer demand and design promotions that boost sales. Walmart, a major American retail corporation, runs over 10,000 stores globally, with more than 4,000 in the United States alone. Effective sales forecasting helps the company to efficiently manage its inventory, forecast future revenue, and make well-informed decisions about new investments. Meeting sales targets early in the financial year can positively impact the company’s stock prices and influence investor confidence. Conversely, failing to meet these forecasts can lead to significant negative effects on the company’s stock value, which is a critical concern for a corporation as large as Walmart."
   ]
  },
  {
   "cell_type": "markdown",
   "metadata": {
    "id": "FbPlU_wEelqa"
   },
   "source": [
    "Objective\n",
    "\n",
    "The purpose of this project is to create a predictive model capable of forecasting store sales by analyzing historical sales data. This model will enable decision-makers to optimize revenue, enhance decision-making, and boost performance in lagging departments."
   ]
  },
  {
   "cell_type": "markdown",
   "metadata": {
    "id": "es9DRxMbelqb"
   },
   "source": [
    "# Data Exploration"
   ]
  },
  {
   "cell_type": "code",
   "execution_count": 1,
   "metadata": {
    "execution": {
     "iopub.execute_input": "2024-09-04T23:11:25.606513Z",
     "iopub.status.busy": "2024-09-04T23:11:25.606057Z",
     "iopub.status.idle": "2024-09-04T23:11:25.612455Z",
     "shell.execute_reply": "2024-09-04T23:11:25.611176Z",
     "shell.execute_reply.started": "2024-09-04T23:11:25.606468Z"
    },
    "id": "GBHNQfyoelqb",
    "trusted": true
   },
   "outputs": [
    {
     "ename": "ModuleNotFoundError",
     "evalue": "No module named 'numpy'",
     "output_type": "error",
     "traceback": [
      "\u001b[0;31m---------------------------------------------------------------------------\u001b[0m",
      "\u001b[0;31mModuleNotFoundError\u001b[0m                       Traceback (most recent call last)",
      "Cell \u001b[0;32mIn[1], line 5\u001b[0m\n\u001b[1;32m      3\u001b[0m \u001b[38;5;28;01mimport\u001b[39;00m\u001b[38;5;250m \u001b[39m\u001b[38;5;21;01mmath\u001b[39;00m\n\u001b[1;32m      4\u001b[0m \u001b[38;5;28;01mimport\u001b[39;00m\u001b[38;5;250m \u001b[39m\u001b[38;5;21;01msys\u001b[39;00m\n\u001b[0;32m----> 5\u001b[0m \u001b[38;5;28;01mimport\u001b[39;00m\u001b[38;5;250m \u001b[39m\u001b[38;5;21;01mnumpy\u001b[39;00m\u001b[38;5;250m \u001b[39m\u001b[38;5;28;01mas\u001b[39;00m\u001b[38;5;250m \u001b[39m\u001b[38;5;21;01mnp\u001b[39;00m\n\u001b[1;32m      6\u001b[0m \u001b[38;5;28;01mimport\u001b[39;00m\u001b[38;5;250m \u001b[39m\u001b[38;5;21;01mpandas\u001b[39;00m\u001b[38;5;250m \u001b[39m\u001b[38;5;28;01mas\u001b[39;00m\u001b[38;5;250m \u001b[39m\u001b[38;5;21;01mpd\u001b[39;00m\n\u001b[1;32m      7\u001b[0m \u001b[38;5;28;01mimport\u001b[39;00m\u001b[38;5;250m \u001b[39m\u001b[38;5;21;01mmatplotlib\u001b[39;00m\u001b[38;5;21;01m.\u001b[39;00m\u001b[38;5;21;01mpyplot\u001b[39;00m\u001b[38;5;250m \u001b[39m\u001b[38;5;28;01mas\u001b[39;00m\u001b[38;5;250m \u001b[39m\u001b[38;5;21;01mplt\u001b[39;00m\n",
      "\u001b[0;31mModuleNotFoundError\u001b[0m: No module named 'numpy'"
     ]
    }
   ],
   "source": [
    "# <== Importing Necessary Libraries ==>\n",
    "import os\n",
    "import math\n",
    "import sys\n",
    "import numpy as np\n",
    "import pandas as pd\n",
    "import matplotlib.pyplot as plt\n",
    "import seaborn as sns"
   ]
  },
  {
   "cell_type": "code",
   "execution_count": null,
   "metadata": {
    "execution": {
     "iopub.execute_input": "2024-09-04T23:11:26.689961Z",
     "iopub.status.busy": "2024-09-04T23:11:26.689498Z",
     "iopub.status.idle": "2024-09-04T23:11:27.070964Z",
     "shell.execute_reply": "2024-09-04T23:11:27.069701Z",
     "shell.execute_reply.started": "2024-09-04T23:11:26.689916Z"
    },
    "id": "3l4MoYz5elqb",
    "trusted": true
   },
   "outputs": [],
   "source": [
    "# loading all datasets\n",
    "df_features = pd.read_csv(\"/content/features.csv\")\n",
    "df_store = pd.read_csv(\"/content/stores.csv\")\n",
    "df_train = pd.read_csv(\"/content/train.csv\")\n",
    "df_test = pd.read_csv(\"/content/test.csv\")"
   ]
  },
  {
   "cell_type": "code",
   "execution_count": null,
   "metadata": {
    "execution": {
     "iopub.execute_input": "2024-09-04T23:11:27.107341Z",
     "iopub.status.busy": "2024-09-04T23:11:27.106867Z",
     "iopub.status.idle": "2024-09-04T23:11:27.113466Z",
     "shell.execute_reply": "2024-09-04T23:11:27.112069Z",
     "shell.execute_reply.started": "2024-09-04T23:11:27.107295Z"
    },
    "id": "JGWrPfSQelqb",
    "trusted": true
   },
   "outputs": [],
   "source": [
    "pd.options.display.max_rows=100\n",
    "pd.pandas.set_option('display.max_columns', None)"
   ]
  },
  {
   "cell_type": "markdown",
   "metadata": {
    "id": "AFn4NSvcelqc"
   },
   "source": [
    "### Dataset Description\n",
    "\n",
    "1. **Features.csv**: Additional data related to the store, department, and regional activity for the given dates.\n",
    "2. **train.csv**: This is the historical training data, which covers 2010–02–05 to 2012-08-17.\n",
    "3. **test.csv**: Similar to train.csv, we've to predict weekly sales.\n",
    "4. **stores.csv**: Contains anonymized information about the 45 stores, indicating the type and size of the store."
   ]
  },
  {
   "cell_type": "code",
   "execution_count": null,
   "metadata": {
    "execution": {
     "iopub.execute_input": "2024-09-04T23:11:28.744479Z",
     "iopub.status.busy": "2024-09-04T23:11:28.744011Z",
     "iopub.status.idle": "2024-09-04T23:11:28.752741Z",
     "shell.execute_reply": "2024-09-04T23:11:28.751368Z",
     "shell.execute_reply.started": "2024-09-04T23:11:28.744426Z"
    },
    "id": "cfGmbiaqelqc",
    "trusted": true
   },
   "outputs": [],
   "source": [
    "# lowercase all the column names and replace spaces with _\n",
    "df_train.columns = df_train.columns.str.lower().str.replace(' ', '_')\n",
    "df_store.columns = df_store.columns.str.lower().str.replace(' ', '_')\n",
    "df_features.columns = df_features.columns.str.lower().str.replace(' ', '_')"
   ]
  },
  {
   "cell_type": "markdown",
   "metadata": {
    "id": "hIPqgV8eelqc"
   },
   "source": [
    "### Exploring - Features.csv"
   ]
  },
  {
   "cell_type": "code",
   "execution_count": null,
   "metadata": {
    "colab": {
     "base_uri": "https://localhost:8080/"
    },
    "execution": {
     "iopub.execute_input": "2024-09-04T23:11:31.992521Z",
     "iopub.status.busy": "2024-09-04T23:11:31.992046Z",
     "iopub.status.idle": "2024-09-04T23:11:31.998931Z",
     "shell.execute_reply": "2024-09-04T23:11:31.997564Z",
     "shell.execute_reply.started": "2024-09-04T23:11:31.992473Z"
    },
    "id": "gZ11fGTwelqc",
    "outputId": "7fc642c5-cd0b-4e1b-c233-b8ba3e7744ca",
    "trusted": true
   },
   "outputs": [],
   "source": [
    "print(\"Shape of dataset (rows x columns): \", df_features.shape)"
   ]
  },
  {
   "cell_type": "code",
   "execution_count": null,
   "metadata": {
    "colab": {
     "base_uri": "https://localhost:8080/",
     "height": 0
    },
    "execution": {
     "iopub.execute_input": "2024-09-04T23:11:32.426135Z",
     "iopub.status.busy": "2024-09-04T23:11:32.425696Z",
     "iopub.status.idle": "2024-09-04T23:11:32.450219Z",
     "shell.execute_reply": "2024-09-04T23:11:32.448862Z",
     "shell.execute_reply.started": "2024-09-04T23:11:32.426091Z"
    },
    "id": "jY1lA80Jelqc",
    "outputId": "106b75a3-dd40-47cd-f7ab-6af087924ecb",
    "trusted": true
   },
   "outputs": [],
   "source": [
    "df_features.head(10)"
   ]
  },
  {
   "cell_type": "code",
   "execution_count": null,
   "metadata": {
    "colab": {
     "base_uri": "https://localhost:8080/",
     "height": 0
    },
    "execution": {
     "iopub.execute_input": "2024-09-04T23:11:32.82836Z",
     "iopub.status.busy": "2024-09-04T23:11:32.827913Z",
     "iopub.status.idle": "2024-09-04T23:11:32.856568Z",
     "shell.execute_reply": "2024-09-04T23:11:32.855105Z",
     "shell.execute_reply.started": "2024-09-04T23:11:32.828317Z"
    },
    "id": "2WWdH24Ielqc",
    "outputId": "ed1a59b8-9fe4-4b3e-c84d-616c425d05e7",
    "trusted": true
   },
   "outputs": [],
   "source": [
    "df_features.head(-10)"
   ]
  },
  {
   "cell_type": "code",
   "execution_count": null,
   "metadata": {
    "colab": {
     "base_uri": "https://localhost:8080/"
    },
    "execution": {
     "iopub.execute_input": "2024-09-04T23:11:33.206748Z",
     "iopub.status.busy": "2024-09-04T23:11:33.206269Z",
     "iopub.status.idle": "2024-09-04T23:11:33.213201Z",
     "shell.execute_reply": "2024-09-04T23:11:33.211755Z",
     "shell.execute_reply.started": "2024-09-04T23:11:33.206702Z"
    },
    "id": "Cr882WsXelqc",
    "outputId": "392a033b-a627-4094-ba8b-2dd2c0d366ca",
    "trusted": true
   },
   "outputs": [],
   "source": [
    "# Display column names\n",
    "print(df_features.columns)"
   ]
  },
  {
   "cell_type": "markdown",
   "metadata": {
    "id": "RKB-41-gelqd"
   },
   "source": [
    "### Column wise description\n",
    "\n",
    "- Store: Denotes the Store Number\n",
    "- Date: Dates (Data) from 2010 - 2012\n",
    "- Temperature: Temperature in Fahrenheit\n",
    "- Fuel Price: Price of Fuel that day\n",
    "- Markdown1, Markdown2, Markdown3, Markdown4: Anonymized data related to promotional markdowns at Walmart\n",
    "- CPI: The consumer price index. It measures the monthly changes in prices paid by US consumers\n",
    "- Unemployement: Rate of Unemployment\n",
    "- IsHoliday: Is that particular day holiday or working day"
   ]
  },
  {
   "cell_type": "code",
   "execution_count": null,
   "metadata": {
    "colab": {
     "base_uri": "https://localhost:8080/"
    },
    "execution": {
     "iopub.execute_input": "2024-09-04T23:11:33.987137Z",
     "iopub.status.busy": "2024-09-04T23:11:33.986685Z",
     "iopub.status.idle": "2024-09-04T23:11:34.002277Z",
     "shell.execute_reply": "2024-09-04T23:11:34.001025Z",
     "shell.execute_reply.started": "2024-09-04T23:11:33.987089Z"
    },
    "id": "SUVkwuMuelqd",
    "outputId": "8f3574e2-e047-499a-a286-c66590f2221d",
    "trusted": true
   },
   "outputs": [],
   "source": [
    "# Display summary information about the dataset\n",
    "print(df_features.info())"
   ]
  },
  {
   "cell_type": "code",
   "execution_count": null,
   "metadata": {
    "colab": {
     "base_uri": "https://localhost:8080/"
    },
    "execution": {
     "iopub.execute_input": "2024-09-04T23:11:34.458472Z",
     "iopub.status.busy": "2024-09-04T23:11:34.458016Z",
     "iopub.status.idle": "2024-09-04T23:11:34.496623Z",
     "shell.execute_reply": "2024-09-04T23:11:34.495445Z",
     "shell.execute_reply.started": "2024-09-04T23:11:34.458425Z"
    },
    "id": "hpprk7hCelqd",
    "outputId": "a3e73ffa-5550-4cd7-a58e-25f78c001218",
    "trusted": true
   },
   "outputs": [],
   "source": [
    "# Display statistical summary of the dataset\n",
    "print(df_features.describe())"
   ]
  },
  {
   "cell_type": "code",
   "execution_count": null,
   "metadata": {
    "colab": {
     "base_uri": "https://localhost:8080/"
    },
    "execution": {
     "iopub.execute_input": "2024-09-04T23:11:34.88807Z",
     "iopub.status.busy": "2024-09-04T23:11:34.887591Z",
     "iopub.status.idle": "2024-09-04T23:11:34.89741Z",
     "shell.execute_reply": "2024-09-04T23:11:34.896184Z",
     "shell.execute_reply.started": "2024-09-04T23:11:34.888017Z"
    },
    "id": "tC_eTLT0elqd",
    "outputId": "4ab101ae-9f8d-4fc3-f19c-66542e79aff0",
    "trusted": true
   },
   "outputs": [],
   "source": [
    "# Check for missing values\n",
    "print(df_features.isnull().sum())"
   ]
  },
  {
   "cell_type": "code",
   "execution_count": null,
   "metadata": {
    "colab": {
     "base_uri": "https://localhost:8080/",
     "height": 0
    },
    "execution": {
     "iopub.execute_input": "2024-09-04T23:11:35.331127Z",
     "iopub.status.busy": "2024-09-04T23:11:35.330675Z",
     "iopub.status.idle": "2024-09-04T23:11:35.346966Z",
     "shell.execute_reply": "2024-09-04T23:11:35.345665Z",
     "shell.execute_reply.started": "2024-09-04T23:11:35.331083Z"
    },
    "id": "ICRIaf6Celqd",
    "outputId": "d996889c-6809-48fb-976c-70a805f04063",
    "trusted": true
   },
   "outputs": [],
   "source": [
    "# Number of unique values\n",
    "df_features.nunique()"
   ]
  },
  {
   "cell_type": "markdown",
   "metadata": {
    "id": "K7AOF0J3elqd"
   },
   "source": [
    "# Data Visualization"
   ]
  },
  {
   "cell_type": "code",
   "execution_count": null,
   "metadata": {
    "colab": {
     "base_uri": "https://localhost:8080/",
     "height": 0
    },
    "execution": {
     "iopub.execute_input": "2024-09-04T23:11:36.49562Z",
     "iopub.status.busy": "2024-09-04T23:11:36.495183Z",
     "iopub.status.idle": "2024-09-04T23:11:39.692Z",
     "shell.execute_reply": "2024-09-04T23:11:39.690663Z",
     "shell.execute_reply.started": "2024-09-04T23:11:36.495563Z"
    },
    "id": "uXScsMuvelqd",
    "outputId": "d8cd5e2b-d8d2-4a6f-ac68-39ad9d97e163",
    "trusted": true
   },
   "outputs": [],
   "source": [
    "# Setting plot style\n",
    "sns.set(style=\"whitegrid\")\n",
    "\n",
    "# Plot histograms for numerical variables\n",
    "df_features.hist(bins=30, figsize=(15, 14))\n",
    "plt.suptitle('Histograms of Numerical Variables', fontsize=20)\n",
    "plt.show()"
   ]
  },
  {
   "cell_type": "code",
   "execution_count": null,
   "metadata": {
    "colab": {
     "base_uri": "https://localhost:8080/",
     "height": 0
    },
    "execution": {
     "iopub.execute_input": "2024-09-04T23:11:48.146708Z",
     "iopub.status.busy": "2024-09-04T23:11:48.146235Z",
     "iopub.status.idle": "2024-09-04T23:11:48.302954Z",
     "shell.execute_reply": "2024-09-04T23:11:48.301178Z",
     "shell.execute_reply.started": "2024-09-04T23:11:48.14666Z"
    },
    "id": "VJcSbDnZelqd",
    "outputId": "d84cb62a-b40c-41d2-bdea-ad4fdef4aebf",
    "trusted": true
   },
   "outputs": [],
   "source": [
    "df_features.groupby('isholiday').size().plot(kind='pie', autopct='%.2f')\n",
    "# False: is not a holiday, True: its a holiday"
   ]
  },
  {
   "cell_type": "markdown",
   "metadata": {
    "id": "Q-wyQBt-elqd"
   },
   "source": [
    "### Unemployment rate v/s time"
   ]
  },
  {
   "cell_type": "code",
   "execution_count": null,
   "metadata": {
    "colab": {
     "base_uri": "https://localhost:8080/",
     "height": 0
    },
    "execution": {
     "iopub.execute_input": "2024-09-04T23:11:50.977681Z",
     "iopub.status.busy": "2024-09-04T23:11:50.976509Z",
     "iopub.status.idle": "2024-09-04T23:11:51.731077Z",
     "shell.execute_reply": "2024-09-04T23:11:51.729841Z",
     "shell.execute_reply.started": "2024-09-04T23:11:50.977599Z"
    },
    "id": "nzHUVmf0elqd",
    "outputId": "d8e253ae-78cc-4871-c0ab-9b71b3ebeffe",
    "trusted": true
   },
   "outputs": [],
   "source": [
    "# Convert the 'date' column to datetime format\n",
    "df_features['date'] = pd.to_datetime(df_features['date'])  # Let Pandas infer the format\n",
    "\n",
    "# Group by 'date' and calculate the average unemployment rate\n",
    "df_grouped = df_features.groupby('date')['unemployment'].mean().reset_index()\n",
    "\n",
    "# Plotting the data\n",
    "plt.figure(figsize=(12, 6))\n",
    "plt.plot(df_grouped['date'], df_grouped['unemployment'], marker='o', linestyle='-')\n",
    "\n",
    "# Adding titles and labels\n",
    "plt.title('Unemployment Rate Over Time')\n",
    "plt.xlabel('Date')\n",
    "plt.ylabel('Unemployment Rate (%)')\n",
    "\n",
    "# Show plot\n",
    "plt.grid(True)\n",
    "plt.show()"
   ]
  },
  {
   "cell_type": "markdown",
   "metadata": {
    "id": "AyZ4cIJ7elqd"
   },
   "source": [
    "### CPI Index v/s time"
   ]
  },
  {
   "cell_type": "code",
   "execution_count": null,
   "metadata": {
    "colab": {
     "base_uri": "https://localhost:8080/",
     "height": 0
    },
    "execution": {
     "iopub.execute_input": "2024-09-04T23:11:57.932343Z",
     "iopub.status.busy": "2024-09-04T23:11:57.9319Z",
     "iopub.status.idle": "2024-09-04T23:11:58.636663Z",
     "shell.execute_reply": "2024-09-04T23:11:58.635507Z",
     "shell.execute_reply.started": "2024-09-04T23:11:57.932303Z"
    },
    "id": "7H87f5cyelqd",
    "outputId": "5aa70366-e055-4514-816d-41edf0b0c00b",
    "trusted": true
   },
   "outputs": [],
   "source": [
    "# Group by 'Date' and calculate the average CPI\n",
    "df_grouped_cpi = df_features.groupby('date')['cpi'].mean().reset_index()\n",
    "\n",
    "# Plotting the data\n",
    "plt.figure(figsize=(12, 6))\n",
    "plt.plot(df_grouped_cpi['date'], df_grouped_cpi['cpi'], marker='o', linestyle='-')\n",
    "\n",
    "# Adding titles and labels\n",
    "plt.title('Consumer Price Index (CPI) Over Time')\n",
    "plt.xlabel('Date')\n",
    "plt.ylabel('CPI')\n",
    "\n",
    "# Show plot\n",
    "plt.grid(True)\n",
    "plt.show()"
   ]
  },
  {
   "cell_type": "markdown",
   "metadata": {
    "id": "GqNHZi70elqd"
   },
   "source": [
    "### Fuel Price v/s time"
   ]
  },
  {
   "cell_type": "code",
   "execution_count": null,
   "metadata": {
    "colab": {
     "base_uri": "https://localhost:8080/",
     "height": 0
    },
    "execution": {
     "iopub.execute_input": "2024-09-04T23:11:58.739999Z",
     "iopub.status.busy": "2024-09-04T23:11:58.739037Z",
     "iopub.status.idle": "2024-09-04T23:11:59.404486Z",
     "shell.execute_reply": "2024-09-04T23:11:59.403369Z",
     "shell.execute_reply.started": "2024-09-04T23:11:58.739952Z"
    },
    "id": "cy49kXVfelqd",
    "outputId": "193cff25-c4e9-42d7-a550-8eb49ce4fdc8",
    "trusted": true
   },
   "outputs": [],
   "source": [
    "# Group by 'Date' and calculate the average Fuel Price\n",
    "df_grouped_fuel_price = df_features.groupby('date')['fuel_price'].mean().reset_index()\n",
    "\n",
    "# Plotting the data\n",
    "plt.figure(figsize=(12, 6))\n",
    "plt.plot(df_grouped_fuel_price['date'], df_grouped_fuel_price['fuel_price'], marker='o', linestyle='-')\n",
    "\n",
    "# Adding titles and labels\n",
    "plt.title('Fuel Price Over Time')\n",
    "plt.xlabel('Date')\n",
    "plt.ylabel('Fuel Price')\n",
    "\n",
    "# Show plot\n",
    "plt.grid(True)\n",
    "plt.show()"
   ]
  },
  {
   "cell_type": "markdown",
   "metadata": {
    "id": "_Xv5IBRgelqd"
   },
   "source": [
    "### Normalized comparision of Unemployment rate v/s CPI v/s Fuel Price"
   ]
  },
  {
   "cell_type": "code",
   "execution_count": null,
   "metadata": {
    "colab": {
     "base_uri": "https://localhost:8080/",
     "height": 0
    },
    "execution": {
     "iopub.execute_input": "2024-09-04T23:12:03.152112Z",
     "iopub.status.busy": "2024-09-04T23:12:03.151095Z",
     "iopub.status.idle": "2024-09-04T23:12:03.894836Z",
     "shell.execute_reply": "2024-09-04T23:12:03.893664Z",
     "shell.execute_reply.started": "2024-09-04T23:12:03.15206Z"
    },
    "id": "xtC0Scygelqd",
    "outputId": "4dfcb63a-d5c4-4219-a194-37fadf5f5cd1",
    "trusted": true
   },
   "outputs": [],
   "source": [
    "# Group by 'Date' and calculate the average for each metric\n",
    "df_grouped = df_features.groupby('date').mean().reset_index()\n",
    "\n",
    "# Normalize the data\n",
    "df_grouped['Unemployment_norm'] = (df_grouped['unemployment'] - df_grouped['unemployment'].min()) / (df_grouped['unemployment'].max() - df_grouped['unemployment'].min())\n",
    "df_grouped['CPI_norm'] = (df_grouped['cpi'] - df_grouped['cpi'].min()) / (df_grouped['cpi'].max() - df_grouped['cpi'].min())\n",
    "df_grouped['Fuel_Price_norm'] = (df_grouped['fuel_price'] - df_grouped['fuel_price'].min()) / (df_grouped['fuel_price'].max() - df_grouped['fuel_price'].min())\n",
    "\n",
    "# Plotting the data\n",
    "plt.figure(figsize=(14, 7))\n",
    "\n",
    "# Plot each normalized metric\n",
    "plt.plot(df_grouped['date'], df_grouped['Unemployment_norm'], marker='o', linestyle='-', label='Unemployment Rate (Normalized)')\n",
    "plt.plot(df_grouped['date'], df_grouped['CPI_norm'], marker='o', linestyle='-', label='CPI (Normalized)')\n",
    "plt.plot(df_grouped['date'], df_grouped['Fuel_Price_norm'], marker='o', linestyle='-', label='Fuel Price (Normalized)')\n",
    "\n",
    "# Adding titles and labels\n",
    "plt.title('Unemployment, CPI, and Fuel Price Over Time (Normalized)')\n",
    "plt.xlabel('Date')\n",
    "plt.ylabel('Normalized Values')\n",
    "plt.legend()\n",
    "\n",
    "# Show plot\n",
    "plt.grid(True)\n",
    "plt.show()"
   ]
  },
  {
   "cell_type": "markdown",
   "metadata": {
    "id": "eJ2UYEefelqd"
   },
   "source": [
    "### Comparing Unemployment v/s CPI v/s Fuel Price, one frame, multiple Y-Axis"
   ]
  },
  {
   "cell_type": "code",
   "execution_count": null,
   "metadata": {
    "colab": {
     "base_uri": "https://localhost:8080/",
     "height": 0
    },
    "execution": {
     "iopub.execute_input": "2024-09-04T23:12:06.212277Z",
     "iopub.status.busy": "2024-09-04T23:12:06.211813Z",
     "iopub.status.idle": "2024-09-04T23:12:08.409847Z",
     "shell.execute_reply": "2024-09-04T23:12:08.40868Z",
     "shell.execute_reply.started": "2024-09-04T23:12:06.21223Z"
    },
    "id": "UoWnyCJDelqd",
    "outputId": "41b61a63-0794-465a-dc11-88b2b38fcd69",
    "trusted": true
   },
   "outputs": [],
   "source": [
    "# Group by 'Date' and calculate the average for each metric\n",
    "df_grouped = df_features.groupby('date').mean().reset_index()\n",
    "\n",
    "# Plotting the data\n",
    "fig, ax1 = plt.subplots(figsize=(14, 7))\n",
    "\n",
    "# Plotting Unemployment on primary y-axis\n",
    "ax1.plot(df_grouped['date'], df_grouped['unemployment'], color='tab:blue', marker='o', linestyle='-', label='Unemployment Rate (%)')\n",
    "ax1.set_xlabel('Date')\n",
    "ax1.set_ylabel('Unemployment Rate (%)', color='tab:blue')\n",
    "ax1.tick_params(axis='y', labelcolor='tab:blue')\n",
    "\n",
    "# Creating a second y-axis for CPI\n",
    "ax2 = ax1.twinx()\n",
    "ax2.plot(df_grouped['date'], df_grouped['cpi'], color='tab:green', marker='o', linestyle='-', label='CPI')\n",
    "ax2.set_ylabel('CPI', color='tab:green')\n",
    "ax2.tick_params(axis='y', labelcolor='tab:green')\n",
    "\n",
    "# Creating a third y-axis for Fuel Price\n",
    "ax3 = ax1.twinx()\n",
    "ax3.spines['right'].set_position(('outward', 60))\n",
    "ax3.plot(df_grouped['date'], df_grouped['fuel_price'], color='tab:red', marker='o', linestyle='-', label='Fuel Price')\n",
    "ax3.set_ylabel('Fuel Price', color='tab:red')\n",
    "ax3.tick_params(axis='y', labelcolor='tab:red')\n",
    "\n",
    "# Adding titles\n",
    "plt.title('Unemployment, CPI, and Fuel Price Over Time')\n",
    "\n",
    "# Show plot\n",
    "fig.tight_layout()\n",
    "plt.show()"
   ]
  },
  {
   "cell_type": "markdown",
   "metadata": {
    "id": "zw1sCOyZelqe"
   },
   "source": [
    "# Data Preprocessing"
   ]
  },
  {
   "cell_type": "markdown",
   "metadata": {
    "id": "mpkyQd9selqe"
   },
   "source": [
    "### Taking care of missing values"
   ]
  },
  {
   "cell_type": "code",
   "execution_count": null,
   "metadata": {
    "colab": {
     "base_uri": "https://localhost:8080/"
    },
    "execution": {
     "iopub.execute_input": "2024-09-04T23:12:11.591352Z",
     "iopub.status.busy": "2024-09-04T23:12:11.590508Z",
     "iopub.status.idle": "2024-09-04T23:12:11.600421Z",
     "shell.execute_reply": "2024-09-04T23:12:11.599297Z",
     "shell.execute_reply.started": "2024-09-04T23:12:11.591303Z"
    },
    "id": "WVMO9XzKelqe",
    "outputId": "0f89ebf1-9a91-4a0c-edcc-1a9c91e5c2e3",
    "trusted": true
   },
   "outputs": [],
   "source": [
    "# filling missing values\n",
    "df_features['cpi'].fillna(df_features['cpi'].median(),inplace=True)\n",
    "df_features['unemployment'].fillna(df_features['unemployment'].median(),inplace=True)"
   ]
  },
  {
   "cell_type": "code",
   "execution_count": null,
   "metadata": {
    "colab": {
     "base_uri": "https://localhost:8080/"
    },
    "execution": {
     "iopub.execute_input": "2024-09-04T23:12:15.560491Z",
     "iopub.status.busy": "2024-09-04T23:12:15.560003Z",
     "iopub.status.idle": "2024-09-04T23:12:15.595024Z",
     "shell.execute_reply": "2024-09-04T23:12:15.593871Z",
     "shell.execute_reply.started": "2024-09-04T23:12:15.560443Z"
    },
    "id": "idf__yXhelqe",
    "outputId": "15adb3de-14ec-411d-f4ef-e56dcd4f7c08",
    "trusted": true
   },
   "outputs": [],
   "source": [
    "# replacing the markdown values with 0, as there is no information in the dataset on how these values are obtained and what they actually mean\n",
    "for i in range(1, 6):\n",
    "    df_features[\"markdown\" + str(i)] = df_features[\"markdown\" + str(i)].apply(lambda x: 0 if x < 0 else x)\n",
    "    df_features[\"markdown\" + str(i)].fillna(value=0, inplace=True)"
   ]
  },
  {
   "cell_type": "code",
   "execution_count": null,
   "metadata": {
    "colab": {
     "base_uri": "https://localhost:8080/"
    },
    "execution": {
     "iopub.execute_input": "2024-09-04T23:12:15.921726Z",
     "iopub.status.busy": "2024-09-04T23:12:15.920863Z",
     "iopub.status.idle": "2024-09-04T23:12:15.936558Z",
     "shell.execute_reply": "2024-09-04T23:12:15.935316Z",
     "shell.execute_reply.started": "2024-09-04T23:12:15.921676Z"
    },
    "id": "wsUQEmKUelqe",
    "outputId": "44cc5264-97be-4233-e9da-50053598c6df",
    "trusted": true
   },
   "outputs": [],
   "source": [
    "df_features.info()"
   ]
  },
  {
   "cell_type": "code",
   "execution_count": null,
   "metadata": {
    "colab": {
     "base_uri": "https://localhost:8080/",
     "height": 0
    },
    "execution": {
     "iopub.execute_input": "2024-09-04T23:12:17.487734Z",
     "iopub.status.busy": "2024-09-04T23:12:17.487284Z",
     "iopub.status.idle": "2024-09-04T23:12:17.510598Z",
     "shell.execute_reply": "2024-09-04T23:12:17.509429Z",
     "shell.execute_reply.started": "2024-09-04T23:12:17.487687Z"
    },
    "id": "hkC1S4N7elqe",
    "outputId": "00e7a203-4462-42c1-cb59-9efb58a49507",
    "trusted": true
   },
   "outputs": [],
   "source": [
    "df_features.head()"
   ]
  },
  {
   "cell_type": "code",
   "execution_count": null,
   "metadata": {
    "colab": {
     "base_uri": "https://localhost:8080/"
    },
    "execution": {
     "iopub.execute_input": "2025-01-23T03:15:19.787254Z",
     "iopub.status.busy": "2025-01-23T03:15:19.786979Z",
     "iopub.status.idle": "2025-01-23T03:15:20.085798Z",
     "shell.execute_reply": "2025-01-23T03:15:20.084282Z",
     "shell.execute_reply.started": "2025-01-23T03:15:19.787224Z"
    },
    "id": "vCReaermelqe",
    "outputId": "a9325c04-5b75-4159-dd21-3e4aa896e705",
    "trusted": true
   },
   "outputs": [],
   "source": [
    "df_train.shape, df_store.shape, df_features.shape"
   ]
  },
  {
   "cell_type": "markdown",
   "metadata": {
    "id": "iJJBLQL4elqh"
   },
   "source": [
    "### Merging DataFrames"
   ]
  },
  {
   "cell_type": "markdown",
   "metadata": {
    "id": "LF7kfWWjelqh"
   },
   "source": [
    "Merging 3 dataframes:\n",
    "\n",
    "1. `features.csv`: Description already provided above.\n",
    "\n",
    "2. `train.csv`: This is the historical training data, which covers 2010–02–05 to 2012–11–01, with following fields:\n",
    "    * `Store`: *The store number*\n",
    "    * `Dept`: *The department number*\n",
    "    * `Date`: *The week*\n",
    "    * `Weekly_Sales`: *Sales for the given department in the given store*\n",
    "    * `IsHoliday`: *Whether the week is a special holiday week*\n",
    "\n",
    "3. `stores.csv`: This file contains anonymized information about the 45 stores, indicating the type and size of the store:\n",
    "    * `Store`: *Stores numbered from 1 to 45*\n",
    "    * `Type`: *Store type has been provided, there are 3 types — A, B and C*\n",
    "    * `Size`: *Stores size has provided*"
   ]
  },
  {
   "cell_type": "code",
   "execution_count": null,
   "metadata": {
    "execution": {
     "iopub.execute_input": "2024-09-04T23:12:20.306708Z",
     "iopub.status.busy": "2024-09-04T23:12:20.30624Z",
     "iopub.status.idle": "2024-09-04T23:12:20.357417Z",
     "shell.execute_reply": "2024-09-04T23:12:20.356398Z",
     "shell.execute_reply.started": "2024-09-04T23:12:20.306659Z"
    },
    "id": "msXqULTIelqh",
    "trusted": true
   },
   "outputs": [],
   "source": [
    "train_df = pd.merge(df_train,df_store,on='store',how='left')"
   ]
  },
  {
   "cell_type": "code",
   "execution_count": null,
   "metadata": {
    "colab": {
     "base_uri": "https://localhost:8080/",
     "height": 0
    },
    "execution": {
     "iopub.execute_input": "2024-09-04T23:12:20.73848Z",
     "iopub.status.busy": "2024-09-04T23:12:20.737445Z",
     "iopub.status.idle": "2024-09-04T23:12:20.752893Z",
     "shell.execute_reply": "2024-09-04T23:12:20.751737Z",
     "shell.execute_reply.started": "2024-09-04T23:12:20.738425Z"
    },
    "id": "0EaNHC59elqh",
    "outputId": "3f8f5841-7519-45c7-9e0f-9cae2897943d",
    "trusted": true
   },
   "outputs": [],
   "source": [
    "train_df.head()"
   ]
  },
  {
   "cell_type": "code",
   "execution_count": null,
   "metadata": {
    "colab": {
     "base_uri": "https://localhost:8080/",
     "height": 0
    },
    "execution": {
     "iopub.execute_input": "2024-09-04T23:12:22.257403Z",
     "iopub.status.busy": "2024-09-04T23:12:22.256977Z",
     "iopub.status.idle": "2024-09-04T23:12:22.279905Z",
     "shell.execute_reply": "2024-09-04T23:12:22.27855Z",
     "shell.execute_reply.started": "2024-09-04T23:12:22.257363Z"
    },
    "id": "-E8gbMEGelqh",
    "outputId": "f0859640-1544-4a8c-906b-9683270d8ede",
    "trusted": true
   },
   "outputs": [],
   "source": [
    "df_features.head()"
   ]
  },
  {
   "cell_type": "code",
   "execution_count": null,
   "metadata": {
    "colab": {
     "base_uri": "https://localhost:8080/"
    },
    "execution": {
     "iopub.execute_input": "2024-09-04T23:12:22.653301Z",
     "iopub.status.busy": "2024-09-04T23:12:22.652877Z",
     "iopub.status.idle": "2024-09-04T23:12:22.660093Z",
     "shell.execute_reply": "2024-09-04T23:12:22.658877Z",
     "shell.execute_reply.started": "2024-09-04T23:12:22.653259Z"
    },
    "id": "HI6H3HWOelqh",
    "outputId": "7b2ffbc5-de9a-4f61-de9e-97463b2b425a",
    "trusted": true
   },
   "outputs": [],
   "source": [
    "print(df_features.columns)\n",
    "print(df_train.columns)\n",
    "print(df_store.columns)"
   ]
  },
  {
   "cell_type": "markdown",
   "metadata": {
    "id": "pE1lBk2Jelqh"
   },
   "source": [
    "### Ensuring Consistency in merged dataframe"
   ]
  },
  {
   "cell_type": "code",
   "execution_count": null,
   "metadata": {
    "execution": {
     "iopub.execute_input": "2024-09-04T23:12:24.015879Z",
     "iopub.status.busy": "2024-09-04T23:12:24.01507Z",
     "iopub.status.idle": "2024-09-04T23:12:24.480771Z",
     "shell.execute_reply": "2024-09-04T23:12:24.479668Z",
     "shell.execute_reply.started": "2024-09-04T23:12:24.015812Z"
    },
    "id": "PUkmLeDselqh",
    "trusted": true
   },
   "outputs": [],
   "source": [
    "# Convert store columns to string to ensure consistency\n",
    "df_features['store'] = df_features['store'].astype(str)\n",
    "df_train['store'] = df_train['store'].astype(str)\n",
    "df_store['store'] = df_store['store'].astype(str)\n",
    "\n",
    "# Convert date columns to datetime if they are not already\n",
    "df_features['date'] = pd.to_datetime(df_features['date'])\n",
    "df_train['date'] = pd.to_datetime(df_train['date'])\n",
    "\n",
    "# Strip any leading/trailing spaces in the store columns\n",
    "df_features['store'] = df_features['store'].str.strip()\n",
    "df_train['store'] = df_train['store'].str.strip()\n",
    "df_store['store'] = df_store['store'].str.strip()"
   ]
  },
  {
   "cell_type": "code",
   "execution_count": null,
   "metadata": {
    "execution": {
     "iopub.execute_input": "2024-09-04T23:12:24.482932Z",
     "iopub.status.busy": "2024-09-04T23:12:24.482553Z",
     "iopub.status.idle": "2024-09-04T23:12:24.900416Z",
     "shell.execute_reply": "2024-09-04T23:12:24.899382Z",
     "shell.execute_reply.started": "2024-09-04T23:12:24.482892Z"
    },
    "id": "XWM4wXZ5elqi",
    "trusted": true
   },
   "outputs": [],
   "source": [
    "# Merge df_features with df_train on 'store' and 'date'\n",
    "merged_df = pd.merge(df_features, df_train, on=['store', 'date'], how='inner')\n",
    "\n",
    "# Merge the result with df_stores on 'store' only\n",
    "final_merged_df = pd.merge(merged_df, df_store, on='store', how='inner')"
   ]
  },
  {
   "cell_type": "code",
   "execution_count": null,
   "metadata": {
    "colab": {
     "base_uri": "https://localhost:8080/",
     "height": 0
    },
    "execution": {
     "iopub.execute_input": "2024-09-04T23:12:24.90256Z",
     "iopub.status.busy": "2024-09-04T23:12:24.902101Z",
     "iopub.status.idle": "2024-09-04T23:12:24.927745Z",
     "shell.execute_reply": "2024-09-04T23:12:24.92652Z",
     "shell.execute_reply.started": "2024-09-04T23:12:24.902508Z"
    },
    "id": "RJKXHMA0elqi",
    "outputId": "b2c16212-323c-4fcd-e9c6-730916f6c0fc",
    "trusted": true
   },
   "outputs": [],
   "source": [
    "final_merged_df.head()"
   ]
  },
  {
   "cell_type": "code",
   "execution_count": null,
   "metadata": {
    "colab": {
     "base_uri": "https://localhost:8080/"
    },
    "execution": {
     "iopub.execute_input": "2024-09-04T23:12:25.49374Z",
     "iopub.status.busy": "2024-09-04T23:12:25.49283Z",
     "iopub.status.idle": "2024-09-04T23:12:25.608438Z",
     "shell.execute_reply": "2024-09-04T23:12:25.60735Z",
     "shell.execute_reply.started": "2024-09-04T23:12:25.493686Z"
    },
    "id": "hmA9So1Gelqi",
    "outputId": "1b0ade3a-25b1-4ee5-c55a-f69ab3891dbf",
    "trusted": true
   },
   "outputs": [],
   "source": [
    "final_merged_df.info()"
   ]
  },
  {
   "cell_type": "code",
   "execution_count": null,
   "metadata": {
    "colab": {
     "base_uri": "https://localhost:8080/",
     "height": 0
    },
    "execution": {
     "iopub.execute_input": "2024-09-04T23:12:26.618829Z",
     "iopub.status.busy": "2024-09-04T23:12:26.617926Z",
     "iopub.status.idle": "2024-09-04T23:12:26.729655Z",
     "shell.execute_reply": "2024-09-04T23:12:26.728524Z",
     "shell.execute_reply.started": "2024-09-04T23:12:26.618779Z"
    },
    "id": "iY6o5VE4elqi",
    "outputId": "09a8f667-db6b-4e9d-961f-b0ba9023def6",
    "trusted": true
   },
   "outputs": [],
   "source": [
    "final_merged_df['date'] = pd.to_datetime(final_merged_df['date'],errors='coerce')\n",
    "final_merged_df.sort_values(by=['date'],inplace=True)\n",
    "final_merged_df.set_index(final_merged_df.date, inplace=True)\n",
    "final_merged_df.head()"
   ]
  },
  {
   "cell_type": "code",
   "execution_count": null,
   "metadata": {
    "colab": {
     "base_uri": "https://localhost:8080/"
    },
    "execution": {
     "iopub.execute_input": "2024-09-04T23:12:27.866574Z",
     "iopub.status.busy": "2024-09-04T23:12:27.865779Z",
     "iopub.status.idle": "2024-09-04T23:12:27.882108Z",
     "shell.execute_reply": "2024-09-04T23:12:27.881036Z",
     "shell.execute_reply.started": "2024-09-04T23:12:27.866524Z"
    },
    "id": "jZWTOtBXelqi",
    "outputId": "74807a6c-421f-45c6-b9d1-99870989d788",
    "trusted": true
   },
   "outputs": [],
   "source": [
    "#checking whether the column IsHoliday_x and IsHoliday_y are same or not\n",
    "final_merged_df['isholiday_x'].isin(final_merged_df['isholiday_y']).all()"
   ]
  },
  {
   "cell_type": "code",
   "execution_count": null,
   "metadata": {
    "colab": {
     "base_uri": "https://localhost:8080/"
    },
    "execution": {
     "iopub.execute_input": "2024-09-04T23:12:28.356361Z",
     "iopub.status.busy": "2024-09-04T23:12:28.355246Z",
     "iopub.status.idle": "2024-09-04T23:12:28.503222Z",
     "shell.execute_reply": "2024-09-04T23:12:28.502148Z",
     "shell.execute_reply.started": "2024-09-04T23:12:28.356291Z"
    },
    "id": "DYmhIBPSelqi",
    "outputId": "479d8f38-91ab-4f69-8662-9c4b65020189",
    "trusted": true
   },
   "outputs": [],
   "source": [
    "#Since these two columns are same so drop any one column and make another column as IsHoliday\n",
    "final_merged_df.drop(columns='isholiday_x',inplace=True)\n",
    "final_merged_df.rename(columns={\"isholiday_y\" : \"IsHoliday\"}, inplace=True)\n",
    "final_merged_df.info()"
   ]
  },
  {
   "cell_type": "code",
   "execution_count": null,
   "metadata": {
    "colab": {
     "base_uri": "https://localhost:8080/",
     "height": 0
    },
    "execution": {
     "iopub.execute_input": "2024-09-04T23:12:30.6583Z",
     "iopub.status.busy": "2024-09-04T23:12:30.657878Z",
     "iopub.status.idle": "2024-09-04T23:12:30.68384Z",
     "shell.execute_reply": "2024-09-04T23:12:30.682519Z",
     "shell.execute_reply.started": "2024-09-04T23:12:30.658259Z"
    },
    "id": "NIfGYzNfelqi",
    "outputId": "6bc6d61e-5ee4-43e6-b0ff-0b6b18ccf79e",
    "trusted": true
   },
   "outputs": [],
   "source": [
    "final_merged_df.head()"
   ]
  },
  {
   "cell_type": "code",
   "execution_count": null,
   "metadata": {
    "execution": {
     "iopub.execute_input": "2024-09-04T23:12:31.043744Z",
     "iopub.status.busy": "2024-09-04T23:12:31.042876Z",
     "iopub.status.idle": "2024-09-04T23:12:31.048475Z",
     "shell.execute_reply": "2024-09-04T23:12:31.047274Z",
     "shell.execute_reply.started": "2024-09-04T23:12:31.043691Z"
    },
    "id": "2Oju9-Qkelqi",
    "trusted": true
   },
   "outputs": [],
   "source": [
    "# final_merged_df['Year'] = final_merged_df['date'].dt.year\n",
    "# final_merged_df['Month'] = final_merged_df['date'].dt.month\n",
    "# # final_merged_df['Week'] = final_merged_df['date'].dt.week"
   ]
  },
  {
   "cell_type": "code",
   "execution_count": null,
   "metadata": {
    "colab": {
     "base_uri": "https://localhost:8080/",
     "height": 0
    },
    "execution": {
     "iopub.execute_input": "2024-09-04T23:12:32.323054Z",
     "iopub.status.busy": "2024-09-04T23:12:32.321955Z",
     "iopub.status.idle": "2024-09-04T23:12:32.34986Z",
     "shell.execute_reply": "2024-09-04T23:12:32.348573Z",
     "shell.execute_reply.started": "2024-09-04T23:12:32.322998Z"
    },
    "id": "PkJ9SL6Helqi",
    "outputId": "7f48a39f-1c5c-452c-fd4e-4c6096d62205",
    "trusted": true
   },
   "outputs": [],
   "source": [
    "final_merged_df.head()"
   ]
  },
  {
   "cell_type": "code",
   "execution_count": null,
   "metadata": {
    "colab": {
     "base_uri": "https://localhost:8080/",
     "height": 0
    },
    "execution": {
     "iopub.execute_input": "2024-09-04T23:12:33.474288Z",
     "iopub.status.busy": "2024-09-04T23:12:33.473839Z",
     "iopub.status.idle": "2024-09-04T23:12:33.583958Z",
     "shell.execute_reply": "2024-09-04T23:12:33.58272Z",
     "shell.execute_reply.started": "2024-09-04T23:12:33.474241Z"
    },
    "id": "vgNBDsfpelqi",
    "outputId": "3a111c40-e754-4923-e75c-30ca1e8893ba",
    "trusted": true
   },
   "outputs": [],
   "source": [
    "#Outlier Detection and Abnormalities\n",
    "agg_data = final_merged_df.groupby(['store', 'dept']).weekly_sales.agg(['max', 'min', 'mean', 'median', 'std']).reset_index()\n",
    "agg_data.head()"
   ]
  },
  {
   "cell_type": "code",
   "execution_count": null,
   "metadata": {
    "colab": {
     "base_uri": "https://localhost:8080/",
     "height": 0
    },
    "execution": {
     "iopub.execute_input": "2024-09-04T23:12:34.316784Z",
     "iopub.status.busy": "2024-09-04T23:12:34.316298Z",
     "iopub.status.idle": "2024-09-04T23:12:34.326952Z",
     "shell.execute_reply": "2024-09-04T23:12:34.325678Z",
     "shell.execute_reply.started": "2024-09-04T23:12:34.316734Z"
    },
    "id": "0LnYFTtVelqi",
    "outputId": "ee2e1349-059f-4d19-bc3d-39c3815d6ac1",
    "trusted": true
   },
   "outputs": [],
   "source": [
    "agg_data.isnull().sum()"
   ]
  },
  {
   "cell_type": "code",
   "execution_count": null,
   "metadata": {
    "execution": {
     "iopub.execute_input": "2024-09-04T23:12:35.402675Z",
     "iopub.status.busy": "2024-09-04T23:12:35.402192Z",
     "iopub.status.idle": "2024-09-04T23:12:35.610093Z",
     "shell.execute_reply": "2024-09-04T23:12:35.608824Z",
     "shell.execute_reply.started": "2024-09-04T23:12:35.40262Z"
    },
    "id": "KLpX5Bk-elqi",
    "trusted": true
   },
   "outputs": [],
   "source": [
    "from sklearn.preprocessing import LabelEncoder\n",
    "le = LabelEncoder()\n",
    "\n",
    "final_merged_df['IsHoliday'] = le.fit_transform(final_merged_df['IsHoliday'])\n",
    "final_merged_df['type'] = le.fit_transform(final_merged_df['type'])"
   ]
  },
  {
   "cell_type": "code",
   "execution_count": null,
   "metadata": {
    "colab": {
     "base_uri": "https://localhost:8080/",
     "height": 0
    },
    "execution": {
     "iopub.execute_input": "2024-09-04T23:12:36.024508Z",
     "iopub.status.busy": "2024-09-04T23:12:36.024078Z",
     "iopub.status.idle": "2024-09-04T23:12:36.051368Z",
     "shell.execute_reply": "2024-09-04T23:12:36.050148Z",
     "shell.execute_reply.started": "2024-09-04T23:12:36.024467Z"
    },
    "id": "7W-1COhXelqi",
    "outputId": "aac41ab0-3293-48c2-aa6b-b1e35865eea1",
    "trusted": true
   },
   "outputs": [],
   "source": [
    "final_merged_df.head()"
   ]
  },
  {
   "cell_type": "code",
   "execution_count": null,
   "metadata": {
    "colab": {
     "base_uri": "https://localhost:8080/"
    },
    "execution": {
     "iopub.execute_input": "2024-09-04T23:12:37.182443Z",
     "iopub.status.busy": "2024-09-04T23:12:37.18195Z",
     "iopub.status.idle": "2024-09-04T23:12:37.19267Z",
     "shell.execute_reply": "2024-09-04T23:12:37.191375Z",
     "shell.execute_reply.started": "2024-09-04T23:12:37.182393Z"
    },
    "id": "KesaxDmtelqi",
    "outputId": "70f53971-c0b7-428d-c524-973da89efc1f",
    "trusted": true
   },
   "outputs": [],
   "source": [
    "final_merged_df['dept'].nunique()"
   ]
  },
  {
   "cell_type": "markdown",
   "metadata": {
    "id": "T0Hih6eqelqi"
   },
   "source": [
    "Note:\n",
    "\n",
    "Store numbers begin from 1 to 45, department numbers are from 1 to 99, but some department numbers are missing such as there is no 88 or 89 etc. Total number of departments is 81."
   ]
  },
  {
   "cell_type": "code",
   "execution_count": null,
   "metadata": {
    "colab": {
     "base_uri": "https://localhost:8080/"
    },
    "execution": {
     "iopub.execute_input": "2024-09-04T23:12:38.560799Z",
     "iopub.status.busy": "2024-09-04T23:12:38.560331Z",
     "iopub.status.idle": "2024-09-04T23:12:38.571928Z",
     "shell.execute_reply": "2024-09-04T23:12:38.57069Z",
     "shell.execute_reply.started": "2024-09-04T23:12:38.560751Z"
    },
    "id": "3Edfahfmelqi",
    "outputId": "3057ed8a-8238-4c2b-f059-60cfa5eac59f",
    "trusted": true
   },
   "outputs": [],
   "source": [
    "final_merged_df['IsHoliday'].nunique()"
   ]
  },
  {
   "cell_type": "code",
   "execution_count": null,
   "metadata": {
    "colab": {
     "base_uri": "https://localhost:8080/"
    },
    "execution": {
     "iopub.execute_input": "2024-09-04T23:12:39.226219Z",
     "iopub.status.busy": "2024-09-04T23:12:39.225421Z",
     "iopub.status.idle": "2024-09-04T23:12:39.237189Z",
     "shell.execute_reply": "2024-09-04T23:12:39.235986Z",
     "shell.execute_reply.started": "2024-09-04T23:12:39.226167Z"
    },
    "id": "kIGxi--Oelqi",
    "outputId": "868ab819-7ccf-46b9-8108-6d0b7f0f6304",
    "trusted": true
   },
   "outputs": [],
   "source": [
    "final_merged_df['type'].nunique()"
   ]
  },
  {
   "cell_type": "markdown",
   "metadata": {
    "id": "e-UNqDq9elqi"
   },
   "source": [
    "### Plotting Stores by Weekly Sales"
   ]
  },
  {
   "cell_type": "code",
   "execution_count": null,
   "metadata": {
    "colab": {
     "base_uri": "https://localhost:8080/",
     "height": 0
    },
    "execution": {
     "iopub.execute_input": "2024-09-04T23:12:41.490986Z",
     "iopub.status.busy": "2024-09-04T23:12:41.489905Z",
     "iopub.status.idle": "2024-09-04T23:12:46.846851Z",
     "shell.execute_reply": "2024-09-04T23:12:46.845686Z",
     "shell.execute_reply.started": "2024-09-04T23:12:41.490886Z"
    },
    "id": "_ER-Tj4Qelqi",
    "outputId": "7ee0e347-499a-4c90-f5f1-f071719b18df",
    "trusted": true
   },
   "outputs": [],
   "source": [
    "# Set the figure size\n",
    "plt.figure(figsize=(12, 8))\n",
    "\n",
    "# Creating a color palette with a color for each store, using a colormap\n",
    "palette = sns.color_palette(\"hsv\", n_colors=len(final_merged_df['store'].unique()))\n",
    "\n",
    "# Plotting with the specified palette\n",
    "sns.barplot(x='store', y='weekly_sales', data=final_merged_df, palette=palette)\n",
    "\n",
    "# Show the plot\n",
    "plt.show()"
   ]
  },
  {
   "cell_type": "code",
   "execution_count": null,
   "metadata": {
    "colab": {
     "base_uri": "https://localhost:8080/"
    },
    "execution": {
     "iopub.execute_input": "2024-09-04T23:12:46.849394Z",
     "iopub.status.busy": "2024-09-04T23:12:46.848954Z",
     "iopub.status.idle": "2024-09-04T23:12:46.93272Z",
     "shell.execute_reply": "2024-09-04T23:12:46.931413Z",
     "shell.execute_reply.started": "2024-09-04T23:12:46.849343Z"
    },
    "id": "hzH3tqh9elqi",
    "outputId": "46473114-c6b1-4219-f143-31dacaa42653",
    "trusted": true
   },
   "outputs": [],
   "source": [
    "# <= Ranking stores by weekly sales (combined for entire dates) =>\n",
    "\n",
    "# Ensuring 'store' is of type integer for sorting\n",
    "final_merged_df['store'] = final_merged_df['store'].astype(int)\n",
    "\n",
    "# Aggregating weekly sales by stores\n",
    "total_sales = final_merged_df.groupby('store')['weekly_sales'].sum().reset_index()\n",
    "\n",
    "# Sorting stores by total weekly sales in descending order\n",
    "total_sales = total_sales.sort_values(by='weekly_sales', ascending=False)\n",
    "\n",
    "print(total_sales)"
   ]
  },
  {
   "cell_type": "markdown",
   "metadata": {
    "id": "O3cvHI6Lelqi"
   },
   "source": [
    "Note:\n",
    "- Stores 20, 4, 14, 13, 2 are the top 5 stores by weekly sales\n",
    "- Stores 38, 36, 5, 44, 33 are the bottom 5 stores by weekly sales\n"
   ]
  },
  {
   "cell_type": "code",
   "execution_count": null,
   "metadata": {
    "colab": {
     "base_uri": "https://localhost:8080/",
     "height": 0
    },
    "execution": {
     "iopub.execute_input": "2024-09-04T23:12:50.82457Z",
     "iopub.status.busy": "2024-09-04T23:12:50.824111Z",
     "iopub.status.idle": "2024-09-04T23:12:51.104348Z",
     "shell.execute_reply": "2024-09-04T23:12:51.103119Z",
     "shell.execute_reply.started": "2024-09-04T23:12:50.824526Z"
    },
    "id": "UUIJg-OLelqj",
    "outputId": "cafea9a0-3667-4f94-ce69-29bf0fb1a036",
    "trusted": true
   },
   "outputs": [],
   "source": [
    "# <= Top 5 departments by weekly sales of Store 20 =>\n",
    "\n",
    "# Filtering the DataFrame for store number 20\n",
    "store_20_df = final_merged_df[final_merged_df['store'] == 20]\n",
    "\n",
    "# Aggregating weekly sales by department\n",
    "department_sales = store_20_df.groupby('dept')['weekly_sales'].sum().reset_index()\n",
    "\n",
    "# Sorting departments by total sales and get the top 5 departments\n",
    "top_departments = department_sales.sort_values(by='weekly_sales', ascending=False).head(5)\n",
    "\n",
    "# Plotting\n",
    "plt.figure(figsize=(12, 6))\n",
    "plt.bar(top_departments['dept'].astype(str), top_departments['weekly_sales'])\n",
    "plt.xlabel('Department')\n",
    "plt.ylabel('Total Weekly Sales')\n",
    "plt.title('Top 5 Departments by Weekly Sales in Store Number 20')\n",
    "plt.xticks(rotation=45)\n",
    "plt.show()"
   ]
  },
  {
   "cell_type": "code",
   "execution_count": null,
   "metadata": {
    "colab": {
     "base_uri": "https://localhost:8080/",
     "height": 0
    },
    "execution": {
     "iopub.execute_input": "2024-09-04T23:12:51.106702Z",
     "iopub.status.busy": "2024-09-04T23:12:51.106301Z",
     "iopub.status.idle": "2024-09-04T23:12:51.460802Z",
     "shell.execute_reply": "2024-09-04T23:12:51.459626Z",
     "shell.execute_reply.started": "2024-09-04T23:12:51.106659Z"
    },
    "id": "CgirWp-pelqj",
    "outputId": "7d5bc598-47f1-44f6-d0ca-7da7216ccdf5",
    "trusted": true
   },
   "outputs": [],
   "source": [
    "# <= Bottom 5 departments by weekly sales of Store 4 =>\n",
    "\n",
    "# Filtering the DataFrame for store number 4\n",
    "store_4_df = final_merged_df[final_merged_df['store'] == 4]\n",
    "\n",
    "# Aggregating weekly sales by department\n",
    "department_sales = store_4_df.groupby('dept')['weekly_sales'].sum().reset_index()\n",
    "\n",
    "# Sorting departments by total sales and get the bottom 5\n",
    "btm_departments = department_sales.sort_values(by='weekly_sales', ascending=True).head(5)\n",
    "\n",
    "# Plotting\n",
    "plt.figure(figsize=(12, 6))\n",
    "plt.bar(btm_departments['dept'].astype(str), btm_departments['weekly_sales'])\n",
    "plt.xlabel('Department')\n",
    "plt.ylabel('Total Weekly Sales')\n",
    "plt.title('Bottom 5 Departments by Weekly Sales in Store Number 4')\n",
    "plt.xticks(rotation=45)\n",
    "plt.show()"
   ]
  },
  {
   "cell_type": "code",
   "execution_count": null,
   "metadata": {
    "colab": {
     "base_uri": "https://localhost:8080/",
     "height": 0
    },
    "execution": {
     "iopub.execute_input": "2024-09-04T23:12:51.463464Z",
     "iopub.status.busy": "2024-09-04T23:12:51.46298Z",
     "iopub.status.idle": "2024-09-04T23:12:51.765798Z",
     "shell.execute_reply": "2024-09-04T23:12:51.764638Z",
     "shell.execute_reply.started": "2024-09-04T23:12:51.463404Z"
    },
    "id": "v46virWKelqj",
    "outputId": "c52808bc-9409-495a-9ecb-c8581f2dd3ca",
    "trusted": true
   },
   "outputs": [],
   "source": [
    "# <= Top 5 departments of Top 5 stores by weekly sales (Combined for entire duration) =>\n",
    "\n",
    "# Define the top 5 stores\n",
    "top_stores = [20, 4, 14, 13, 2]\n",
    "\n",
    "# Filter the DataFrame for the top 5 stores\n",
    "top_stores_df = final_merged_df[final_merged_df['store'].isin(top_stores)]\n",
    "\n",
    "# Aggregating weekly sales by department\n",
    "department_sales = top_stores_df.groupby('dept')['weekly_sales'].sum().reset_index()\n",
    "\n",
    "# Sorting departments by total sales and get the top 5\n",
    "top_departments = department_sales.sort_values(by='weekly_sales', ascending=False).head(5)\n",
    "\n",
    "# Plotting\n",
    "plt.figure(figsize=(12, 6))\n",
    "plt.bar(top_departments['dept'].astype(str), top_departments['weekly_sales'])\n",
    "plt.xlabel('Department')\n",
    "plt.ylabel('Total Weekly Sales')\n",
    "plt.title('Top 5 Departments by Weekly Sales for Top 5 Stores')\n",
    "plt.xticks(rotation=45)\n",
    "plt.show()"
   ]
  },
  {
   "cell_type": "code",
   "execution_count": null,
   "metadata": {
    "colab": {
     "base_uri": "https://localhost:8080/",
     "height": 0
    },
    "execution": {
     "iopub.execute_input": "2024-09-04T23:12:51.768541Z",
     "iopub.status.busy": "2024-09-04T23:12:51.768136Z",
     "iopub.status.idle": "2024-09-04T23:12:52.054794Z",
     "shell.execute_reply": "2024-09-04T23:12:52.053564Z",
     "shell.execute_reply.started": "2024-09-04T23:12:51.768491Z"
    },
    "id": "EX4_Pd9helqj",
    "outputId": "9685aa61-1b30-4a6d-f630-8ab1f5144d42",
    "trusted": true
   },
   "outputs": [],
   "source": [
    "# <= Bottom 5 departments of Top 5 stores by weekly sales (Combined for entire duration) =>\n",
    "\n",
    "# Define the top 5 stores\n",
    "top_stores = [20, 4, 14, 13, 2]\n",
    "\n",
    "# Filter the DataFrame for the top 5 stores\n",
    "top_stores_df = final_merged_df[final_merged_df['store'].isin(top_stores)]\n",
    "\n",
    "# Aggregating weekly sales by department\n",
    "department_sales = top_stores_df.groupby('dept')['weekly_sales'].sum().reset_index()\n",
    "\n",
    "# Sorting departments by total sales and get the bottom 5 department\n",
    "btm_departments = department_sales.sort_values(by='weekly_sales', ascending=True).head(5)\n",
    "\n",
    "# Plotting\n",
    "plt.figure(figsize=(12, 6))\n",
    "plt.bar(btm_departments['dept'].astype(str), btm_departments['weekly_sales'])\n",
    "plt.xlabel('Department')\n",
    "plt.ylabel('Total Weekly Sales')\n",
    "plt.title('Bottom 5 Departments by Weekly Sales for Top 5 Stores')\n",
    "plt.xticks(rotation=45)\n",
    "plt.show()"
   ]
  },
  {
   "cell_type": "code",
   "execution_count": null,
   "metadata": {
    "execution": {
     "iopub.execute_input": "2024-09-04T23:12:52.057125Z",
     "iopub.status.busy": "2024-09-04T23:12:52.056733Z",
     "iopub.status.idle": "2024-09-04T23:12:53.229544Z",
     "shell.execute_reply": "2024-09-04T23:12:53.228423Z",
     "shell.execute_reply.started": "2024-09-04T23:12:52.057083Z"
    },
    "id": "ggvWruL8elqj",
    "trusted": true
   },
   "outputs": [],
   "source": [
    "data = pd.read_csv('/content/merged-data.csv')"
   ]
  },
  {
   "cell_type": "code",
   "execution_count": null,
   "metadata": {
    "colab": {
     "base_uri": "https://localhost:8080/",
     "height": 0
    },
    "execution": {
     "iopub.execute_input": "2024-09-04T23:12:53.231773Z",
     "iopub.status.busy": "2024-09-04T23:12:53.231376Z",
     "iopub.status.idle": "2024-09-04T23:12:53.255866Z",
     "shell.execute_reply": "2024-09-04T23:12:53.254669Z",
     "shell.execute_reply.started": "2024-09-04T23:12:53.231731Z"
    },
    "id": "8sGZUUV-elqj",
    "outputId": "bd4a4bcb-2817-4f44-99b6-47c6567b458e",
    "trusted": true
   },
   "outputs": [],
   "source": [
    "data.head()"
   ]
  },
  {
   "cell_type": "code",
   "execution_count": null,
   "metadata": {
    "execution": {
     "iopub.execute_input": "2024-09-04T23:12:53.555786Z",
     "iopub.status.busy": "2024-09-04T23:12:53.555314Z",
     "iopub.status.idle": "2024-09-04T23:12:53.647262Z",
     "shell.execute_reply": "2024-09-04T23:12:53.646071Z",
     "shell.execute_reply.started": "2024-09-04T23:12:53.555737Z"
    },
    "id": "KiVwHwY8elqj",
    "trusted": true
   },
   "outputs": [],
   "source": [
    "# Convert the date column to datetime format if it's not already\n",
    "data['date'] = pd.to_datetime(data['date'])\n",
    "\n",
    "# Group by date and sum weekly sales\n",
    "sales_over_time = data.groupby('date')['weekly_sales'].sum()"
   ]
  },
  {
   "cell_type": "code",
   "execution_count": null,
   "metadata": {
    "execution": {
     "iopub.execute_input": "2024-09-04T23:12:54.232982Z",
     "iopub.status.busy": "2024-09-04T23:12:54.232513Z",
     "iopub.status.idle": "2024-09-04T23:12:54.356633Z",
     "shell.execute_reply": "2024-09-04T23:12:54.355632Z",
     "shell.execute_reply.started": "2024-09-04T23:12:54.232937Z"
    },
    "id": "EQfWYZsuelqj",
    "trusted": true
   },
   "outputs": [],
   "source": [
    "import plotly.graph_objects as go\n",
    "import plotly.offline as po\n",
    "from plotly.offline import download_plotlyjs, init_notebook_mode, plot, iplot\n",
    "pd.options.plotting.backend= \"plotly\""
   ]
  },
  {
   "cell_type": "code",
   "execution_count": null,
   "metadata": {
    "colab": {
     "base_uri": "https://localhost:8080/",
     "height": 0
    },
    "execution": {
     "iopub.execute_input": "2024-09-04T23:12:56.593738Z",
     "iopub.status.busy": "2024-09-04T23:12:56.593273Z",
     "iopub.status.idle": "2024-09-04T23:12:58.229101Z",
     "shell.execute_reply": "2024-09-04T23:12:58.227929Z",
     "shell.execute_reply.started": "2024-09-04T23:12:56.593693Z"
    },
    "id": "XY2Fyag1elqj",
    "outputId": "c59cb28a-02cb-4694-9023-bfd9e51c943f",
    "trusted": true
   },
   "outputs": [],
   "source": [
    "correlation_matrix = data.corr()\n",
    "\n",
    "# Plot the heatmap\n",
    "plt.figure(figsize=(18, 6))\n",
    "sns.heatmap(correlation_matrix, annot=True, cmap='coolwarm', linewidths=0.5)\n",
    "plt.title('Correlation Heatmap')\n",
    "plt.show()"
   ]
  },
  {
   "cell_type": "code",
   "execution_count": null,
   "metadata": {
    "colab": {
     "base_uri": "https://localhost:8080/",
     "height": 0
    },
    "execution": {
     "iopub.execute_input": "2024-09-04T23:12:59.875665Z",
     "iopub.status.busy": "2024-09-04T23:12:59.875116Z",
     "iopub.status.idle": "2024-09-04T23:13:00.895445Z",
     "shell.execute_reply": "2024-09-04T23:13:00.894285Z",
     "shell.execute_reply.started": "2024-09-04T23:12:59.875619Z"
    },
    "id": "dMaeKGUJelqj",
    "outputId": "0af5944f-6d8e-4ec4-b750-c0421fcdc8a4",
    "trusted": true
   },
   "outputs": [],
   "source": [
    "# Set the size of the plot\n",
    "plt.figure(figsize=(12, 6))\n",
    "\n",
    "# Create the histogram with 75 bins\n",
    "sns.histplot(data['weekly_sales'], bins=75, kde=False)\n",
    "\n",
    "# Set the title and labels\n",
    "plt.title('Weekly Sales Distribution', fontsize=16)\n",
    "plt.xlabel('Weekly Sales', fontsize=14)\n",
    "plt.ylabel('Frequency', fontsize=14)\n",
    "\n",
    "# Set margins\n",
    "plt.gcf().subplots_adjust(left=0.05, right=0.95, bottom=0.15, top=0.85)\n",
    "\n",
    "# Show the plot\n",
    "plt.show()"
   ]
  },
  {
   "cell_type": "code",
   "execution_count": null,
   "metadata": {
    "colab": {
     "base_uri": "https://localhost:8080/",
     "height": 0
    },
    "execution": {
     "iopub.execute_input": "2024-09-04T23:13:55.50709Z",
     "iopub.status.busy": "2024-09-04T23:13:55.506562Z",
     "iopub.status.idle": "2024-09-04T23:13:56.272732Z",
     "shell.execute_reply": "2024-09-04T23:13:56.271427Z",
     "shell.execute_reply.started": "2024-09-04T23:13:55.50704Z"
    },
    "id": "F6GM4Wt2elqj",
    "outputId": "dfeaaa18-cf05-455f-f2da-8e306ee59885",
    "trusted": true
   },
   "outputs": [],
   "source": [
    "# average of weekly sales by department (sorted)\n",
    "avg_sales_dept = data.groupby(\"dept\")[\"weekly_sales\"].mean().sort_values()\n",
    "\n",
    "fig = go.Figure()\n",
    "\n",
    "fig.add_trace(go.Bar(y=avg_sales_dept.values,\n",
    "                    text=avg_sales_dept.index,\n",
    "                     textposition='outside')\n",
    "             )\n",
    "\n",
    "\n",
    "fig.update_traces(marker_color='darkcyan',\n",
    "                  marker_line_color='darkcyan',\n",
    "                  marker_line_width=1.5,\n",
    "                 )\n",
    "\n",
    "fig.update_layout(title_text='Average Weekly Sales by Department',\n",
    "                  xaxis_title_text=\"Department Number\",   # xaxis label\n",
    "                  xaxis_showticklabels=False,\n",
    "                  yaxis_title_text=\"Average Sales\") # yaxis label)\n",
    "\n",
    "\n",
    "fig.show()"
   ]
  },
  {
   "cell_type": "code",
   "execution_count": null,
   "metadata": {
    "colab": {
     "base_uri": "https://localhost:8080/",
     "height": 0
    },
    "execution": {
     "iopub.execute_input": "2024-09-04T18:55:20.348778Z",
     "iopub.status.busy": "2024-09-04T18:55:20.348315Z",
     "iopub.status.idle": "2024-09-04T18:55:20.402131Z",
     "shell.execute_reply": "2024-09-04T18:55:20.400823Z",
     "shell.execute_reply.started": "2024-09-04T18:55:20.348734Z"
    },
    "id": "9W4-so16elqj",
    "outputId": "96262609-e53d-4823-fd3f-6b920062166c",
    "trusted": true
   },
   "outputs": [],
   "source": [
    "# average of weekly sales by store (sorted)\n",
    "avg_sales_store = data.groupby(\"store\")[\"weekly_sales\"].mean().sort_values()\n",
    "fig = go.Figure()\n",
    "\n",
    "fig.add_trace(go.Bar(y=avg_sales_store.values,\n",
    "                    text=avg_sales_store.index,\n",
    "                     textposition='outside'))\n",
    "\n",
    "\n",
    "fig.update_traces(marker_color='rosybrown',\n",
    "                  marker_line_color='darkmagenta',\n",
    "                  marker_line_width=1.5,)\n",
    "\n",
    "fig.update_layout(title_text='Average Weekly Sales by Store',\n",
    "                  xaxis=dict(\n",
    "                      title_text=\"Store Number\",\n",
    "                      showticklabels=False,\n",
    "                      ticks='outside',\n",
    "                      tickfont=dict(\n",
    "                          family='Arial',\n",
    "                          size=12,\n",
    "                          color='rgb(82, 82, 82)')),\n",
    "                       yaxis=dict(\n",
    "                             title_text=\"Average Sales\"))\n",
    "\n",
    "fig.show()"
   ]
  },
  {
   "cell_type": "code",
   "execution_count": null,
   "metadata": {
    "colab": {
     "base_uri": "https://localhost:8080/",
     "height": 0
    },
    "execution": {
     "iopub.execute_input": "2024-09-04T18:55:29.011316Z",
     "iopub.status.busy": "2024-09-04T18:55:29.01082Z",
     "iopub.status.idle": "2024-09-04T18:55:29.106905Z",
     "shell.execute_reply": "2024-09-04T18:55:29.105352Z",
     "shell.execute_reply.started": "2024-09-04T18:55:29.011269Z"
    },
    "id": "eYAvB2rrelqj",
    "outputId": "e4c90644-a257-46dc-b872-b4adc1285629",
    "trusted": true
   },
   "outputs": [],
   "source": [
    "# checking out the sum of sales by store type\n",
    "fig = go.Figure()\n",
    "\n",
    "fig.add_trace(go.Histogram(x=data[\"type\"],\n",
    "                          histnorm=\"percent\",\n",
    "                           xbins=dict(size=0.5),marker_color='#EB89B5',opacity=0.75))\n",
    "\n",
    "fig.update_layout(\n",
    "    height=500, width=400,\n",
    "    title_text=\"Store Types in %\",\n",
    "    xaxis_title_text=\"Type\",\n",
    "    yaxis_title_text=\"Ratio\",\n",
    ")\n",
    "\n",
    "fig.show()"
   ]
  },
  {
   "cell_type": "markdown",
   "metadata": {
    "id": "AaBVuFLoelqj"
   },
   "source": [
    "Note: Some department numbers are missing\n",
    "\n",
    "- Top 5 Departments:\n",
    "1. 92: Dry Grocery\n",
    "2. 95: Grocery, Snacks, and Beverages\n",
    "3. 90: Dairy\n",
    "4. 38: Prescription Pharmacy\n",
    "5. 72: Electronics\n",
    "\n",
    "- Bottom 5 Departments:\n",
    "\n",
    "1. 43: Toys (Unsual)\n",
    "2. 39: Misc/Jewellery\n",
    "3. 78: Ladieswear (Part of Fashion)\n",
    "4. 47: Something in Fashion\n",
    "5. 51: Sporting Goods"
   ]
  },
  {
   "cell_type": "markdown",
   "metadata": {
    "id": "wx8Ete28elqj"
   },
   "source": [
    "# Modelling"
   ]
  },
  {
   "cell_type": "code",
   "execution_count": null,
   "metadata": {
    "execution": {
     "iopub.execute_input": "2024-09-04T18:56:24.818748Z",
     "iopub.status.busy": "2024-09-04T18:56:24.818256Z",
     "iopub.status.idle": "2024-09-04T18:56:25.469934Z",
     "shell.execute_reply": "2024-09-04T18:56:25.468436Z",
     "shell.execute_reply.started": "2024-09-04T18:56:24.818703Z"
    },
    "id": "EgEOGnq3elqj",
    "trusted": true
   },
   "outputs": [],
   "source": [
    "data = pd.read_csv('/content/merged-data.csv')"
   ]
  },
  {
   "cell_type": "code",
   "execution_count": null,
   "metadata": {
    "colab": {
     "base_uri": "https://localhost:8080/"
    },
    "execution": {
     "iopub.execute_input": "2024-09-04T18:56:30.540771Z",
     "iopub.status.busy": "2024-09-04T18:56:30.540298Z",
     "iopub.status.idle": "2024-09-04T18:56:30.679245Z",
     "shell.execute_reply": "2024-09-04T18:56:30.678014Z",
     "shell.execute_reply.started": "2024-09-04T18:56:30.540723Z"
    },
    "id": "djC2gUuoelqj",
    "outputId": "96407d03-de8e-4ba0-f963-e0bc7a4ada32",
    "trusted": true
   },
   "outputs": [],
   "source": [
    "# Converting the 'date' column to datetime format\n",
    "data['date'] = pd.to_datetime(data['date'])\n",
    "\n",
    "# Extracting year, month, and week from the date\n",
    "data['year'] = data['date'].dt.year\n",
    "data['month'] = data['date'].dt.month\n",
    "data['week'] = data['date'].dt.isocalendar().week\n",
    "\n",
    "# Checking for missing values\n",
    "missing_values = data.isnull().sum()\n",
    "\n",
    "# Displaying the updated dataset with new features and missing values\n",
    "data.head(), missing_values"
   ]
  },
  {
   "cell_type": "markdown",
   "metadata": {
    "id": "egexk8MJelqj"
   },
   "source": [
    "## Linear Models"
   ]
  },
  {
   "cell_type": "code",
   "execution_count": null,
   "metadata": {
    "execution": {
     "iopub.execute_input": "2024-09-04T18:56:54.163257Z",
     "iopub.status.busy": "2024-09-04T18:56:54.162767Z",
     "iopub.status.idle": "2024-09-04T18:56:54.438227Z",
     "shell.execute_reply": "2024-09-04T18:56:54.436895Z",
     "shell.execute_reply.started": "2024-09-04T18:56:54.163211Z"
    },
    "id": "1IWGB-Wwelqj",
    "trusted": true
   },
   "outputs": [],
   "source": [
    "from sklearn.model_selection import train_test_split\n",
    "from sklearn.linear_model import LinearRegression\n",
    "from sklearn.metrics import mean_squared_error, r2_score\n",
    "\n",
    "# Select the features for the model (excluding the target variable 'weekly_sales' and 'date')\n",
    "features = data.drop(columns=['weekly_sales', 'date'])\n",
    "\n",
    "# Target variable\n",
    "target = data['weekly_sales']"
   ]
  },
  {
   "cell_type": "code",
   "execution_count": null,
   "metadata": {
    "colab": {
     "base_uri": "https://localhost:8080/",
     "height": 444
    },
    "execution": {
     "iopub.execute_input": "2024-09-04T18:56:59.499728Z",
     "iopub.status.busy": "2024-09-04T18:56:59.499281Z",
     "iopub.status.idle": "2024-09-04T18:56:59.534582Z",
     "shell.execute_reply": "2024-09-04T18:56:59.533089Z",
     "shell.execute_reply.started": "2024-09-04T18:56:59.499686Z"
    },
    "id": "o_6UwWYSelqk",
    "outputId": "fe69fd77-78ff-4c20-db3d-a7497dc7f5b8",
    "trusted": true
   },
   "outputs": [],
   "source": [
    "features"
   ]
  },
  {
   "cell_type": "code",
   "execution_count": null,
   "metadata": {
    "colab": {
     "base_uri": "https://localhost:8080/",
     "height": 458
    },
    "execution": {
     "iopub.execute_input": "2024-09-04T18:57:05.645968Z",
     "iopub.status.busy": "2024-09-04T18:57:05.644588Z",
     "iopub.status.idle": "2024-09-04T18:57:05.657753Z",
     "shell.execute_reply": "2024-09-04T18:57:05.656296Z",
     "shell.execute_reply.started": "2024-09-04T18:57:05.645899Z"
    },
    "id": "2FZWaclyelqk",
    "outputId": "8da72c1f-a9c7-4476-bf03-f06586d885ff",
    "trusted": true
   },
   "outputs": [],
   "source": [
    "target"
   ]
  },
  {
   "cell_type": "code",
   "execution_count": null,
   "metadata": {
    "colab": {
     "base_uri": "https://localhost:8080/",
     "height": 80
    },
    "execution": {
     "iopub.execute_input": "2024-09-04T18:57:11.783081Z",
     "iopub.status.busy": "2024-09-04T18:57:11.782119Z",
     "iopub.status.idle": "2024-09-04T18:57:12.523563Z",
     "shell.execute_reply": "2024-09-04T18:57:12.519943Z",
     "shell.execute_reply.started": "2024-09-04T18:57:11.783032Z"
    },
    "id": "_XaHfy-Relqk",
    "outputId": "98148fea-9c61-4601-e8c7-a6546a3f1386",
    "trusted": true
   },
   "outputs": [],
   "source": [
    "# Split the dataset into training and testing sets\n",
    "X_train, X_test, y_train, y_test = train_test_split(features, target, test_size=0.2, random_state=42)\n",
    "\n",
    "# Initialize and train the Linear Regression model\n",
    "model = LinearRegression()\n",
    "model.fit(X_train, y_train)"
   ]
  },
  {
   "cell_type": "code",
   "execution_count": null,
   "metadata": {
    "execution": {
     "iopub.execute_input": "2024-09-04T18:57:17.605189Z",
     "iopub.status.busy": "2024-09-04T18:57:17.603892Z",
     "iopub.status.idle": "2024-09-04T18:57:17.623258Z",
     "shell.execute_reply": "2024-09-04T18:57:17.621264Z",
     "shell.execute_reply.started": "2024-09-04T18:57:17.605133Z"
    },
    "id": "RxPpI9b4elqk",
    "trusted": true
   },
   "outputs": [],
   "source": [
    "# Making predictions on test set\n",
    "y_pred = model.predict(X_test)"
   ]
  },
  {
   "cell_type": "code",
   "execution_count": null,
   "metadata": {
    "colab": {
     "base_uri": "https://localhost:8080/"
    },
    "execution": {
     "iopub.execute_input": "2024-09-04T18:57:22.307772Z",
     "iopub.status.busy": "2024-09-04T18:57:22.30722Z",
     "iopub.status.idle": "2024-09-04T18:57:22.318735Z",
     "shell.execute_reply": "2024-09-04T18:57:22.317235Z",
     "shell.execute_reply.started": "2024-09-04T18:57:22.307723Z"
    },
    "id": "OXGj6a_8elqk",
    "outputId": "282f6f72-3870-401f-da77-660eb4eefc52",
    "trusted": true
   },
   "outputs": [],
   "source": [
    "# Evaluate the model\n",
    "mse = mean_squared_error(y_test, y_pred)\n",
    "r2 = r2_score(y_test, y_pred)\n",
    "\n",
    "print(mse)\n",
    "print(r2)"
   ]
  },
  {
   "cell_type": "markdown",
   "metadata": {
    "id": "6LaM_O2Belqk"
   },
   "source": [
    "Note: As anticipated, Linear Regression does not yield good results because the data does not exhibit a linear relationship."
   ]
  },
  {
   "cell_type": "markdown",
   "metadata": {
    "id": "QL5DlX1xelqk"
   },
   "source": [
    "## Lasso & Ridge Regression"
   ]
  },
  {
   "cell_type": "code",
   "execution_count": null,
   "metadata": {
    "execution": {
     "iopub.execute_input": "2024-09-04T18:58:28.591996Z",
     "iopub.status.busy": "2024-09-04T18:58:28.591364Z",
     "iopub.status.idle": "2024-09-04T18:58:32.453711Z",
     "shell.execute_reply": "2024-09-04T18:58:32.452263Z",
     "shell.execute_reply.started": "2024-09-04T18:58:28.591943Z"
    },
    "id": "8ffVtHN7elqk",
    "trusted": true
   },
   "outputs": [],
   "source": [
    "from sklearn.preprocessing import StandardScaler, PolynomialFeatures\n",
    "from sklearn.linear_model import Ridge, Lasso\n",
    "from sklearn.ensemble import RandomForestRegressor, GradientBoostingRegressor\n",
    "\n",
    "# Feature Engineering: Adding interaction terms using PolynomialFeatures\n",
    "poly = PolynomialFeatures(degree=2, interaction_only=True, include_bias=False)\n",
    "X_train_poly = poly.fit_transform(X_train)\n",
    "X_test_poly = poly.transform(X_test)\n",
    "\n",
    "# Apply scaling to the features\n",
    "scaler = StandardScaler()\n",
    "X_train_scaled = scaler.fit_transform(X_train_poly)\n",
    "X_test_scaled = scaler.transform(X_test_poly)\n",
    "\n",
    "# Regularization: Ridge Regression\n",
    "ridge_model = Ridge(alpha=1.0)\n",
    "ridge_model.fit(X_train_scaled, y_train)\n",
    "ridge_pred = ridge_model.predict(X_test_scaled)\n",
    "ridge_mse = mean_squared_error(y_test, ridge_pred)\n",
    "ridge_r2 = r2_score(y_test, ridge_pred)"
   ]
  },
  {
   "cell_type": "code",
   "execution_count": null,
   "metadata": {
    "colab": {
     "base_uri": "https://localhost:8080/"
    },
    "execution": {
     "iopub.execute_input": "2024-09-04T18:58:43.269189Z",
     "iopub.status.busy": "2024-09-04T18:58:43.268701Z",
     "iopub.status.idle": "2024-09-04T18:58:43.277219Z",
     "shell.execute_reply": "2024-09-04T18:58:43.275612Z",
     "shell.execute_reply.started": "2024-09-04T18:58:43.269144Z"
    },
    "id": "3F3s-A_Gelql",
    "outputId": "4c4eb5bc-582d-4c98-ae9a-8ad71e4c54b0",
    "trusted": true
   },
   "outputs": [],
   "source": [
    "print(ridge_r2 * 100)"
   ]
  },
  {
   "cell_type": "code",
   "execution_count": null,
   "metadata": {
    "execution": {
     "iopub.execute_input": "2024-09-04T18:58:52.733824Z",
     "iopub.status.busy": "2024-09-04T18:58:52.733359Z",
     "iopub.status.idle": "2024-09-04T19:00:08.470435Z",
     "shell.execute_reply": "2024-09-04T19:00:08.46937Z",
     "shell.execute_reply.started": "2024-09-04T18:58:52.733779Z"
    },
    "id": "0q25ZKl4elql",
    "trusted": true
   },
   "outputs": [],
   "source": [
    "# Regularization: Lasso Regression\n",
    "lasso_model = Lasso(alpha=0.1)\n",
    "lasso_model.fit(X_train_scaled, y_train)\n",
    "lasso_pred = lasso_model.predict(X_test_scaled)\n",
    "lasso_mse = mean_squared_error(y_test, lasso_pred)\n",
    "lasso_r2 = r2_score(y_test, lasso_pred)"
   ]
  },
  {
   "cell_type": "code",
   "execution_count": null,
   "metadata": {
    "execution": {
     "iopub.execute_input": "2024-09-04T19:00:08.475866Z",
     "iopub.status.busy": "2024-09-04T19:00:08.473642Z",
     "iopub.status.idle": "2024-09-04T19:00:08.486901Z",
     "shell.execute_reply": "2024-09-04T19:00:08.484746Z",
     "shell.execute_reply.started": "2024-09-04T19:00:08.475784Z"
    },
    "id": "c7Hjkhf_elql",
    "trusted": true
   },
   "outputs": [],
   "source": [
    "print(lasso_r2 * 100)"
   ]
  },
  {
   "cell_type": "markdown",
   "metadata": {
    "id": "Fd-h3mHQelql"
   },
   "source": [
    "Note: Ridge and Lasso models also do not produce improved results."
   ]
  },
  {
   "cell_type": "markdown",
   "metadata": {
    "id": "Crmvl6-Xelql"
   },
   "source": [
    "## Tree Models"
   ]
  },
  {
   "cell_type": "markdown",
   "metadata": {
    "id": "OqYzT9bjelql"
   },
   "source": [
    "### Model: Random Forest Regression (n_est = 50)"
   ]
  },
  {
   "cell_type": "code",
   "execution_count": null,
   "metadata": {
    "execution": {
     "iopub.execute_input": "2024-09-04T19:00:31.87198Z",
     "iopub.status.busy": "2024-09-04T19:00:31.868909Z",
     "iopub.status.idle": "2024-09-04T19:00:31.882437Z",
     "shell.execute_reply": "2024-09-04T19:00:31.880964Z",
     "shell.execute_reply.started": "2024-09-04T19:00:31.871899Z"
    },
    "id": "LoM7xwAdelql",
    "trusted": true
   },
   "outputs": [],
   "source": [
    "import time"
   ]
  },
  {
   "cell_type": "code",
   "execution_count": null,
   "metadata": {
    "execution": {
     "iopub.execute_input": "2024-09-04T19:01:06.09542Z",
     "iopub.status.busy": "2024-09-04T19:01:06.094924Z",
     "iopub.status.idle": "2024-09-04T19:04:18.894461Z",
     "shell.execute_reply": "2024-09-04T19:04:18.892915Z",
     "shell.execute_reply.started": "2024-09-04T19:01:06.095381Z"
    },
    "id": "rDCQyEE4elql",
    "trusted": true
   },
   "outputs": [],
   "source": [
    "# Start time\n",
    "start_time = time.time()\n",
    "rf_model_1 = RandomForestRegressor(n_estimators=50, random_state=42)\n",
    "rf_model_1.fit(X_train, y_train)\n",
    "rf_pred_1 = rf_model_1.predict(X_test)\n",
    "rf_mse_1 = mean_squared_error(y_test, rf_pred_1)\n",
    "rf_r2_1 = r2_score(y_test, rf_pred_1)\n",
    "# End time\n",
    "end_time = time.time()\n",
    "\n",
    "# Calculate the execution time in minutes\n",
    "execution_time = (end_time - start_time) / 60\n",
    "print(\"Execution Time: \", execution_time)\n",
    "print(\"R^2 VALUE: \", rf_r2_1)"
   ]
  },
  {
   "cell_type": "markdown",
   "metadata": {
    "id": "KFGRou5oelql"
   },
   "source": [
    "### Model: Random Forest Regression (n_est = 50, max_depth = 100)"
   ]
  },
  {
   "cell_type": "code",
   "execution_count": null,
   "metadata": {
    "colab": {
     "base_uri": "https://localhost:8080/",
     "height": 211
    },
    "execution": {
     "iopub.execute_input": "2024-09-04T19:04:27.094683Z",
     "iopub.status.busy": "2024-09-04T19:04:27.094234Z",
     "iopub.status.idle": "2024-09-04T19:07:40.030274Z",
     "shell.execute_reply": "2024-09-04T19:07:40.0288Z",
     "shell.execute_reply.started": "2024-09-04T19:04:27.094643Z"
    },
    "id": "VgtrSjG2elql",
    "outputId": "fbc296d9-7121-4cc5-ba64-92eb7dc04574",
    "trusted": true
   },
   "outputs": [],
   "source": [
    "# Model: Random Forest Regressor (n_estimators=50, max_depth=100)\n",
    "# Start time\n",
    "start_time = time.time()\n",
    "rf_model_1_100 = RandomForestRegressor(n_estimators=50, max_depth=100, random_state=42)\n",
    "rf_model_1_100.fit(X_train, y_train)\n",
    "rf_pred_1_100  = rf_model_1_100.predict(X_test)\n",
    "rf_mse_1_100 = mean_squared_error(y_test, rf_pred_1_100)\n",
    "rf_r2_1_100 = r2_score(y_test, rf_pred_1_100)\n",
    "# End time\n",
    "end_time = time.time()\n",
    "\n",
    "# Calculate the execution time in minutes\n",
    "execution_time = (end_time - start_time) / 60\n",
    "print(\"Execution Time: \", execution_time)\n",
    "print(\"R^2 VALUE: \", rf_r2_1_100)"
   ]
  },
  {
   "cell_type": "markdown",
   "metadata": {
    "id": "K5N-KuIWelqm"
   },
   "source": [
    "### Model: Random Forest Regression (n_est = 100)"
   ]
  },
  {
   "cell_type": "code",
   "execution_count": null,
   "metadata": {
    "colab": {
     "base_uri": "https://localhost:8080/",
     "height": 211
    },
    "execution": {
     "iopub.execute_input": "2024-09-04T19:07:56.161213Z",
     "iopub.status.busy": "2024-09-04T19:07:56.160722Z",
     "iopub.status.idle": "2024-09-04T19:10:54.998097Z",
     "shell.execute_reply": "2024-09-04T19:10:54.996365Z",
     "shell.execute_reply.started": "2024-09-04T19:07:56.161169Z"
    },
    "id": "cdKV5AxYelqm",
    "outputId": "b2d91948-1d80-485c-e081-af5e97f49f64",
    "trusted": true
   },
   "outputs": [],
   "source": [
    "# Model: Random Forest Regressor (n_estimators=100)\n",
    "# Start time\n",
    "start_time = time.time()\n",
    "rf_model_2 = RandomForestRegressor(n_estimators=100, random_state=42)\n",
    "rf_model_2.fit(X_train, y_train)\n",
    "rf_pred_2 = rf_model_2.predict(X_test)\n",
    "rf_mse_2 = mean_squared_error(y_test, rf_pred_2)\n",
    "rf_r2_2 = r2_score(y_test, rf_pred_2)\n",
    "# End time\n",
    "end_time = time.time()\n",
    "\n",
    "# Calculate the execution time in minutes\n",
    "execution_time = (end_time - start_time) / 60\n",
    "print(\"Execution Time: \", execution_time)\n",
    "print(\"R^2 VALUE: \", rf_r2_2)"
   ]
  },
  {
   "cell_type": "markdown",
   "metadata": {
    "id": "eoAsVd9Kelqm"
   },
   "source": [
    "### Model: Random Forest Regression (n_est = 100, max_depth = 100)"
   ]
  },
  {
   "cell_type": "code",
   "execution_count": null,
   "metadata": {
    "colab": {
     "base_uri": "https://localhost:8080/",
     "height": 211
    },
    "execution": {
     "iopub.execute_input": "2024-09-04T19:12:22.700866Z",
     "iopub.status.busy": "2024-09-04T19:12:22.700402Z",
     "iopub.status.idle": "2024-09-04T19:18:47.302348Z",
     "shell.execute_reply": "2024-09-04T19:18:47.300651Z",
     "shell.execute_reply.started": "2024-09-04T19:12:22.70081Z"
    },
    "id": "j7rToi4eelqm",
    "outputId": "a578839f-41fe-4ef4-ff8f-50152fe065f3",
    "trusted": true
   },
   "outputs": [],
   "source": [
    "# Model: Random Forest Regressor (n_estimators=100)\n",
    "# Start time\n",
    "start_time = time.time()\n",
    "rf_model_2_100 = RandomForestRegressor(n_estimators=100, max_depth=100, random_state=42)\n",
    "rf_model_2_100.fit(X_train, y_train)\n",
    "rf_pred_2_100 = rf_model_2_100.predict(X_test)\n",
    "rf_mse_2_100 = mean_squared_error(y_test, rf_pred_2_100)\n",
    "rf_r2_2_100 = r2_score(y_test, rf_pred_2_100)\n",
    "# End time\n",
    "end_time = time.time()\n",
    "\n",
    "# Calculate the execution time in minutes\n",
    "execution_time = (end_time - start_time) / 60\n",
    "print(\"Execution Time: \", execution_time)\n",
    "print(\"R^2 VALUE: \", rf_r2_2_100)"
   ]
  },
  {
   "cell_type": "markdown",
   "metadata": {
    "id": "qCiGOfr2elqm"
   },
   "source": [
    "### Gradient Boosting (n_est = 50)"
   ]
  },
  {
   "cell_type": "code",
   "execution_count": null,
   "metadata": {
    "colab": {
     "base_uri": "https://localhost:8080/",
     "height": 211
    },
    "execution": {
     "iopub.execute_input": "2024-09-04T19:26:47.731158Z",
     "iopub.status.busy": "2024-09-04T19:26:47.730316Z",
     "iopub.status.idle": "2024-09-04T19:27:27.102927Z",
     "shell.execute_reply": "2024-09-04T19:27:27.101321Z",
     "shell.execute_reply.started": "2024-09-04T19:26:47.731093Z"
    },
    "id": "GmzWhb_melqm",
    "outputId": "53feecf6-7605-4a88-f00b-f56006e630fe",
    "trusted": true
   },
   "outputs": [],
   "source": [
    "# Model: Gradient Boosting Regressor\n",
    "start_time = time.time()\n",
    "gb_model_1 = GradientBoostingRegressor(n_estimators=50, random_state=42)\n",
    "gb_model_1.fit(X_train, y_train)\n",
    "gb_pred_1 = gb_model_1.predict(X_test)\n",
    "gb_mse_1 = mean_squared_error(y_test, gb_pred_1)\n",
    "gb_r2_1 = r2_score(y_test, gb_pred_1)\n",
    "end_time = time.time()\n",
    "\n",
    "# Calculate the execution time in minutes\n",
    "execution_time = (end_time - start_time) / 60\n",
    "print(\"Execution Time: \", execution_time)\n",
    "print(\"R^2 VALUE: \", gb_r2_1)"
   ]
  },
  {
   "cell_type": "markdown",
   "metadata": {
    "id": "8LSOdsXLelqm"
   },
   "source": [
    "### Gradient Boosting (n_est = 100)"
   ]
  },
  {
   "cell_type": "code",
   "execution_count": null,
   "metadata": {
    "colab": {
     "base_uri": "https://localhost:8080/",
     "height": 211
    },
    "execution": {
     "iopub.execute_input": "2024-09-04T19:27:27.105913Z",
     "iopub.status.busy": "2024-09-04T19:27:27.105345Z",
     "iopub.status.idle": "2024-09-04T19:28:45.828172Z",
     "shell.execute_reply": "2024-09-04T19:28:45.826786Z",
     "shell.execute_reply.started": "2024-09-04T19:27:27.105835Z"
    },
    "id": "u0n9hjEZelqm",
    "outputId": "16694df5-c1e2-4a4f-ba7f-dbcdbdcaab76",
    "trusted": true
   },
   "outputs": [],
   "source": [
    "# Model: Gradient Boosting Regressor\n",
    "start_time = time.time()\n",
    "gb_model = GradientBoostingRegressor(n_estimators=100, random_state=42)\n",
    "gb_model.fit(X_train, y_train)\n",
    "gb_pred_2 = gb_model.predict(X_test)\n",
    "gb_mse_2 = mean_squared_error(y_test, gb_pred_2)\n",
    "gb_r2_2 = r2_score(y_test, gb_pred_2)\n",
    "end_time = time.time()\n",
    "\n",
    "# Calculate the execution time in minutes\n",
    "execution_time = (end_time - start_time) / 60\n",
    "print(\"Execution Time: \", execution_time)\n",
    "print(\"R^2 VALUE: \", gb_r2_2)"
   ]
  },
  {
   "cell_type": "markdown",
   "metadata": {
    "id": "8JbqBPX2elqm"
   },
   "source": [
    "### Gradient Boosting (n_est = 200)"
   ]
  },
  {
   "cell_type": "code",
   "execution_count": null,
   "metadata": {
    "colab": {
     "base_uri": "https://localhost:8080/",
     "height": 211
    },
    "execution": {
     "iopub.execute_input": "2024-09-04T19:41:01.166216Z",
     "iopub.status.busy": "2024-09-04T19:41:01.164101Z",
     "iopub.status.idle": "2024-09-04T19:43:38.692921Z",
     "shell.execute_reply": "2024-09-04T19:43:38.691183Z",
     "shell.execute_reply.started": "2024-09-04T19:41:01.166139Z"
    },
    "id": "XIvP6SSOelqm",
    "outputId": "3bf6ffd9-f2f4-466b-baa5-98e3e7e0151e",
    "trusted": true
   },
   "outputs": [],
   "source": [
    "# Model: Gradient Boosting Regressor\n",
    "start_time = time.time()\n",
    "gb_model = GradientBoostingRegressor(n_estimators=200, random_state=42)\n",
    "gb_model.fit(X_train, y_train)\n",
    "gb_pred_3 = gb_model.predict(X_test)\n",
    "gb_mse_3 = mean_squared_error(y_test, gb_pred_3)\n",
    "gb_r2_3 = r2_score(y_test, gb_pred_3)\n",
    "end_time = time.time()\n",
    "\n",
    "# Calculate the execution time in minutes\n",
    "execution_time = (end_time - start_time) / 60\n",
    "print(\"Execution Time: \", execution_time)\n",
    "print(\"R^2 VALUE: \", gb_r2_3)"
   ]
  },
  {
   "cell_type": "markdown",
   "metadata": {
    "id": "E1byh1nBelqm"
   },
   "source": [
    "### XGB Regressor"
   ]
  },
  {
   "cell_type": "code",
   "execution_count": null,
   "metadata": {
    "colab": {
     "base_uri": "https://localhost:8080/",
     "height": 211
    },
    "execution": {
     "iopub.execute_input": "2024-09-04T19:45:08.281084Z",
     "iopub.status.busy": "2024-09-04T19:45:08.280515Z",
     "iopub.status.idle": "2024-09-04T19:45:10.524667Z",
     "shell.execute_reply": "2024-09-04T19:45:10.523614Z",
     "shell.execute_reply.started": "2024-09-04T19:45:08.281039Z"
    },
    "id": "0OxzrxTlelqm",
    "outputId": "113e5bcb-0ab2-4977-8dc8-09e1d79368d2",
    "trusted": true
   },
   "outputs": [],
   "source": [
    "from xgboost import XGBRegressor\n",
    "xgbr = XGBRegressor(n_estimators = 50)\n",
    "xgbr.fit(X_train, y_train)\n",
    "xgb_pred = xgbr.predict(X_test)\n",
    "xgb_mse = mean_squared_error(y_test, xgb_pred)\n",
    "xgb_r2 = r2_score(y_test, xgb_pred)\n",
    "print(\"R^2 VALUE: \", xgb_r2)"
   ]
  },
  {
   "cell_type": "code",
   "execution_count": null,
   "metadata": {
    "execution": {
     "iopub.execute_input": "2024-09-04T19:45:13.413714Z",
     "iopub.status.busy": "2024-09-04T19:45:13.412364Z",
     "iopub.status.idle": "2024-09-04T19:45:13.478272Z",
     "shell.execute_reply": "2024-09-04T19:45:13.476783Z",
     "shell.execute_reply.started": "2024-09-04T19:45:13.413657Z"
    },
    "id": "PQSJ5sj5elqm",
    "trusted": true
   },
   "outputs": [],
   "source": [
    "xgboost_accuracy = xgbr.score(X_test,y_test)*100\n",
    "print(\"XGBoost Regressor Accuracy - \",xgboost_accuracy)"
   ]
  },
  {
   "cell_type": "code",
   "execution_count": null,
   "metadata": {
    "execution": {
     "iopub.execute_input": "2024-09-04T19:47:19.017872Z",
     "iopub.status.busy": "2024-09-04T19:47:19.01734Z",
     "iopub.status.idle": "2024-09-04T19:47:23.287273Z",
     "shell.execute_reply": "2024-09-04T19:47:23.285871Z",
     "shell.execute_reply.started": "2024-09-04T19:47:19.017799Z"
    },
    "id": "AbHqzXkQelqm",
    "trusted": true
   },
   "outputs": [],
   "source": [
    "from xgboost import XGBRegressor\n",
    "xgbr1 = XGBRegressor(n_estimators = 100)\n",
    "xgbr1.fit(X_train, y_train)\n",
    "xgb_pred_1 = xgbr.predict(X_test)\n",
    "xgb_mse_1 = mean_squared_error(y_test, xgb_pred_1)\n",
    "xgb_r2_1 = r2_score(y_test, xgb_pred_1)\n",
    "print(\"R^2 VALUE: \", xgb_r2_1)"
   ]
  },
  {
   "cell_type": "code",
   "execution_count": null,
   "metadata": {
    "colab": {
     "base_uri": "https://localhost:8080/",
     "height": 159
    },
    "execution": {
     "iopub.execute_input": "2024-09-04T19:45:25.118598Z",
     "iopub.status.busy": "2024-09-04T19:45:25.117993Z",
     "iopub.status.idle": "2024-09-04T19:45:25.227258Z",
     "shell.execute_reply": "2024-09-04T19:45:25.225955Z",
     "shell.execute_reply.started": "2024-09-04T19:45:25.118422Z"
    },
    "id": "WeRs1S0yelqm",
    "outputId": "a4788655-d87a-4e3f-a705-8bcd44da4a57",
    "trusted": true
   },
   "outputs": [],
   "source": [
    "xgboost_accuracy = xgbr1.score(X_test,y_test)*100\n",
    "print(\"XGBoost Regressor Accuracy - \",xgboost_accuracy)"
   ]
  },
  {
   "cell_type": "code",
   "execution_count": null,
   "metadata": {
    "colab": {
     "base_uri": "https://localhost:8080/",
     "height": 211
    },
    "execution": {
     "iopub.execute_input": "2024-09-04T19:45:28.308039Z",
     "iopub.status.busy": "2024-09-04T19:45:28.306652Z",
     "iopub.status.idle": "2024-09-04T19:45:33.913346Z",
     "shell.execute_reply": "2024-09-04T19:45:33.91181Z",
     "shell.execute_reply.started": "2024-09-04T19:45:28.307985Z"
    },
    "id": "4jCahnFhelqm",
    "outputId": "d381c0d7-0df3-431f-cf8d-408d5b6e606b",
    "trusted": true
   },
   "outputs": [],
   "source": [
    "xgbr2 = XGBRegressor(n_estimators=200)\n",
    "xgbr2.fit(X_train, y_train)\n",
    "xgb_pred_2 = xgbr2.predict(X_test)\n",
    "xgb_mse_2 = mean_squared_error(y_test, xgb_pred_2)\n",
    "xgb_r2_2 = r2_score(y_test, xgb_pred_2)\n",
    "print(\"R^2 VALUE: \", xgb_r2_2)"
   ]
  },
  {
   "cell_type": "code",
   "execution_count": null,
   "metadata": {
    "colab": {
     "base_uri": "https://localhost:8080/",
     "height": 159
    },
    "execution": {
     "iopub.execute_input": "2024-09-04T19:45:33.917778Z",
     "iopub.status.busy": "2024-09-04T19:45:33.917342Z",
     "iopub.status.idle": "2024-09-04T19:45:34.144667Z",
     "shell.execute_reply": "2024-09-04T19:45:34.143641Z",
     "shell.execute_reply.started": "2024-09-04T19:45:33.917735Z"
    },
    "id": "ibj0BY4telqm",
    "outputId": "837600b7-89a4-4b55-d422-eabd9ae105b0",
    "trusted": true
   },
   "outputs": [],
   "source": [
    "xgboost_accuracy = xgbr2.score(X_test,y_test)*100\n",
    "print(\"XGBoost Regressor Accuracy - \",xgboost_accuracy)"
   ]
  },
  {
   "cell_type": "markdown",
   "metadata": {
    "id": "6jwUQImXelqm"
   },
   "source": [
    "## Compiled Results"
   ]
  },
  {
   "cell_type": "code",
   "execution_count": null,
   "metadata": {
    "colab": {
     "base_uri": "https://localhost:8080/",
     "height": 280
    },
    "execution": {
     "iopub.execute_input": "2024-09-04T19:47:30.591199Z",
     "iopub.status.busy": "2024-09-04T19:47:30.589765Z",
     "iopub.status.idle": "2024-09-04T19:47:30.607193Z",
     "shell.execute_reply": "2024-09-04T19:47:30.605904Z",
     "shell.execute_reply.started": "2024-09-04T19:47:30.591146Z"
    },
    "id": "UjWCvqAHelqm",
    "outputId": "abbd8727-b08e-4400-e8a8-48a0d825e05e",
    "trusted": true
   },
   "outputs": [],
   "source": [
    "# Compile the results with MSE and R^2\n",
    "results = {\n",
    "    \"Model\": [\"Ridge Regression\", \"Lasso Regression\", \"Random Forest\", \"Random Forest\" ,\"Random Forest\", \"Random Forest\", \"Gradient Boosting\", \"Gradient Boosting\", \"Gradient Boosting\", \"XGB Regressor\", \"XGB Regressor\", \"XGB Regressor\"],\n",
    "    \"MSE\": [ridge_mse, lasso_mse, rf_mse_1, rf_mse_1_100, rf_mse_2, rf_mse_2_100, gb_mse_1, gb_mse_2, gb_mse_3, xgb_mse, xgb_mse_1, xgb_mse_2],\n",
    "    \"R² Score\": [ridge_r2, lasso_r2, rf_r2_1, rf_r2_1_100, rf_r2_2, rf_r2_2_100, gb_r2_1, gb_r2_2, gb_r2_3, xgb_r2, xgb_r2_1, xgb_r2_2]\n",
    "}\n",
    "\n",
    "results_df = pd.DataFrame(results)\n",
    "results_df"
   ]
  },
  {
   "cell_type": "markdown",
   "metadata": {
    "id": "t8_hTlCKelqm"
   },
   "source": [
    "# Model Train v/s Test"
   ]
  },
  {
   "cell_type": "markdown",
   "metadata": {
    "id": "7gcgg6vRelqm"
   },
   "source": [
    "## Ridge Regression"
   ]
  },
  {
   "cell_type": "code",
   "execution_count": null,
   "metadata": {
    "colab": {
     "base_uri": "https://localhost:8080/",
     "height": 211
    },
    "execution": {
     "iopub.execute_input": "2024-09-04T20:05:29.543394Z",
     "iopub.status.busy": "2024-09-04T20:05:29.542734Z",
     "iopub.status.idle": "2024-09-04T20:05:30.495174Z",
     "shell.execute_reply": "2024-09-04T20:05:30.493788Z",
     "shell.execute_reply.started": "2024-09-04T20:05:29.543333Z"
    },
    "id": "q1dmm4uBelqn",
    "outputId": "bb99b70e-2980-4c78-9a68-4dcb20755348",
    "trusted": true
   },
   "outputs": [],
   "source": [
    "# Select a subset of the test data for visualization\n",
    "n = 100  # Number of points to plot\n",
    "y_test_subset = y_test[:n].values\n",
    "\n",
    "# Create subplots\n",
    "fig, ax = plt.subplots(2, 1, figsize=(15,12))\n",
    "\n",
    "# First subplot: Ridge Regression predictions\n",
    "ax[0].plot(ridge_pred[:n], label=\"Ridge Regression Prediction\", linewidth=2.0, color='pink')\n",
    "ax[0].set_title('Ridge Regression Prediction', fontsize=16)\n",
    "ax[0].legend(loc=\"best\")\n",
    "\n",
    "# Second subplot: Actual values\n",
    "ax[1].plot(y_test_subset, label=\"Actual Values\", linewidth=2.0, color='red')\n",
    "ax[1].set_title('Actual Values', fontsize=16)\n",
    "ax[1].legend(loc=\"best\")\n",
    "\n",
    "# Adjust the layout\n",
    "plt.tight_layout()\n",
    "\n",
    "# Show the plot\n",
    "plt.show()"
   ]
  },
  {
   "cell_type": "markdown",
   "metadata": {
    "id": "-YSo_K7Eelqn"
   },
   "source": [
    "## Lasso Regression"
   ]
  },
  {
   "cell_type": "code",
   "execution_count": null,
   "metadata": {
    "colab": {
     "base_uri": "https://localhost:8080/",
     "height": 211
    },
    "execution": {
     "iopub.execute_input": "2024-09-04T20:06:55.240234Z",
     "iopub.status.busy": "2024-09-04T20:06:55.239229Z",
     "iopub.status.idle": "2024-09-04T20:06:56.151708Z",
     "shell.execute_reply": "2024-09-04T20:06:56.150401Z",
     "shell.execute_reply.started": "2024-09-04T20:06:55.240183Z"
    },
    "id": "tT3hWgb1elqn",
    "outputId": "927387a6-5a18-4cdb-eecb-06b3821795e7",
    "trusted": true
   },
   "outputs": [],
   "source": [
    "# Select a subset of the test data for visualization\n",
    "n = 100  # Number of points to plot\n",
    "y_test_subset = y_test[:n].values\n",
    "\n",
    "# Create subplots\n",
    "fig, ax = plt.subplots(2, 1, figsize=(15,12))\n",
    "\n",
    "# First subplot: Lasso Prediction predictions\n",
    "ax[0].plot(lasso_pred[:n], label=\"Lasso Prediction Prediction\", linewidth=2.0, color='brown')\n",
    "ax[0].set_title('Lasso Prediction Prediction', fontsize=16)\n",
    "ax[0].legend(loc=\"best\")\n",
    "\n",
    "# Second subplot: Actual values\n",
    "ax[1].plot(y_test_subset, label=\"Actual Values\", linewidth=2.0, color='red')\n",
    "ax[1].set_title('Actual Values', fontsize=16)\n",
    "ax[1].legend(loc=\"best\")\n",
    "\n",
    "# Adjust the layout\n",
    "plt.tight_layout()\n",
    "\n",
    "# Show the plot\n",
    "plt.show()"
   ]
  },
  {
   "cell_type": "markdown",
   "metadata": {
    "id": "dn-OyDRielqn"
   },
   "source": [
    "## Random Forest Regressor"
   ]
  },
  {
   "cell_type": "code",
   "execution_count": null,
   "metadata": {
    "colab": {
     "base_uri": "https://localhost:8080/",
     "height": 211
    },
    "execution": {
     "iopub.execute_input": "2024-09-04T20:01:01.557117Z",
     "iopub.status.busy": "2024-09-04T20:01:01.556582Z",
     "iopub.status.idle": "2024-09-04T20:01:02.546221Z",
     "shell.execute_reply": "2024-09-04T20:01:02.544702Z",
     "shell.execute_reply.started": "2024-09-04T20:01:01.55707Z"
    },
    "id": "aG6Ia_Sbelqn",
    "outputId": "01d54939-024f-44d5-fe38-c75ccf9a3778",
    "trusted": true
   },
   "outputs": [],
   "source": [
    "# Select a subset of the test data for visualization\n",
    "n = 100  # Number of points to plot\n",
    "y_test_subset = y_test[:n].values\n",
    "\n",
    "# Create subplots\n",
    "fig, ax = plt.subplots(2, 1, figsize=(15,12))\n",
    "\n",
    "# First subplot: Random Forest predictions\n",
    "ax[0].plot(rf_pred_2_100[:n], label=\"Random Forest Prediction\", linewidth=2.0, color='orange')\n",
    "ax[0].set_title('Random Forest Predictions', fontsize=16)\n",
    "ax[0].legend(loc=\"best\")\n",
    "\n",
    "# Second subplot: Actual values\n",
    "ax[1].plot(y_test_subset, label=\"Actual Values\", linewidth=2.0, color='red')\n",
    "ax[1].set_title('Actual Values', fontsize=16)\n",
    "ax[1].legend(loc=\"best\")\n",
    "\n",
    "# Adjust the layout\n",
    "plt.tight_layout()\n",
    "\n",
    "# Show the plot\n",
    "plt.show()"
   ]
  },
  {
   "cell_type": "markdown",
   "metadata": {
    "id": "XtRgDhfvelqn"
   },
   "source": [
    "## Gradient Boosting"
   ]
  },
  {
   "cell_type": "code",
   "execution_count": null,
   "metadata": {
    "colab": {
     "base_uri": "https://localhost:8080/",
     "height": 211
    },
    "execution": {
     "iopub.execute_input": "2024-09-04T20:03:12.655232Z",
     "iopub.status.busy": "2024-09-04T20:03:12.654736Z",
     "iopub.status.idle": "2024-09-04T20:03:13.576371Z",
     "shell.execute_reply": "2024-09-04T20:03:13.575095Z",
     "shell.execute_reply.started": "2024-09-04T20:03:12.655189Z"
    },
    "id": "7zlfUJcYelqn",
    "outputId": "b47d9229-4400-4247-a18a-c31b9b3d113e",
    "trusted": true
   },
   "outputs": [],
   "source": [
    "# Select a subset of the test data for visualization\n",
    "n = 100  # Number of points to plot\n",
    "y_test_subset = y_test[:n].values\n",
    "\n",
    "# Create subplots\n",
    "fig, ax = plt.subplots(2, 1, figsize=(15,12))\n",
    "\n",
    "# First subplot: Gradient Boosting Predictions\n",
    "ax[0].plot(gb_pred_3[:n], label=\"Gradient Boosting Predictions\", linewidth=2.0, color='blue')\n",
    "ax[0].set_title('Gradient Boosting Predictions', fontsize=16)\n",
    "ax[0].legend(loc=\"best\")\n",
    "\n",
    "# Second subplot: Actual values\n",
    "ax[1].plot(y_test_subset, label=\"Actual Values\", linewidth=2.0, color='red')\n",
    "ax[1].set_title('Actual Values', fontsize=16)\n",
    "ax[1].legend(loc=\"best\")\n",
    "\n",
    "# Adjust the layout\n",
    "plt.tight_layout()\n",
    "\n",
    "# Show the plot\n",
    "plt.show()"
   ]
  },
  {
   "cell_type": "markdown",
   "metadata": {
    "id": "2MENgpamelqn"
   },
   "source": [
    "## XGB Regressor"
   ]
  },
  {
   "cell_type": "code",
   "execution_count": null,
   "metadata": {
    "colab": {
     "base_uri": "https://localhost:8080/",
     "height": 211
    },
    "execution": {
     "iopub.execute_input": "2024-09-04T20:05:59.965818Z",
     "iopub.status.busy": "2024-09-04T20:05:59.965293Z",
     "iopub.status.idle": "2024-09-04T20:06:00.924194Z",
     "shell.execute_reply": "2024-09-04T20:06:00.922964Z",
     "shell.execute_reply.started": "2024-09-04T20:05:59.965746Z"
    },
    "id": "OsqJW3nAelqn",
    "outputId": "825708a6-d13c-4b36-ebf7-e79b7f5f893a",
    "trusted": true
   },
   "outputs": [],
   "source": [
    "# Select a subset of the test data for visualization\n",
    "n = 100  # Number of points to plot\n",
    "y_test_subset = y_test[:n].values\n",
    "\n",
    "# Create subplots\n",
    "fig, ax = plt.subplots(2, 1, figsize=(15,12))\n",
    "\n",
    "# First subplot: XGB Regressor Predictions\n",
    "ax[0].plot(xgb_pred_2[:n], label=\"XGB Regressor Predictions\", linewidth=2.0, color='blue')\n",
    "ax[0].set_title('XGB Regressor Predictions', fontsize=16)\n",
    "ax[0].legend(loc=\"best\")\n",
    "\n",
    "# Second subplot: Actual values\n",
    "ax[1].plot(y_test_subset, label=\"Actual Values\", linewidth=2.0, color='red')\n",
    "ax[1].set_title('Actual Values', fontsize=16)\n",
    "ax[1].legend(loc=\"best\")\n",
    "\n",
    "# Adjust the layout\n",
    "plt.tight_layout()\n",
    "\n",
    "# Show the plot\n",
    "plt.show()"
   ]
  },
  {
   "cell_type": "code",
   "execution_count": null,
   "metadata": {
    "colab": {
     "base_uri": "https://localhost:8080/",
     "height": 280
    },
    "execution": {
     "iopub.execute_input": "2024-09-04T19:49:28.220673Z",
     "iopub.status.busy": "2024-09-04T19:49:28.218894Z",
     "iopub.status.idle": "2024-09-04T19:49:29.169825Z",
     "shell.execute_reply": "2024-09-04T19:49:29.168455Z",
     "shell.execute_reply.started": "2024-09-04T19:49:28.220593Z"
    },
    "id": "gol0DAg4elqn",
    "outputId": "7cb8edbe-3584-4949-d238-e90a75e5451b",
    "trusted": true
   },
   "outputs": [],
   "source": [
    "import pandas as pd\n",
    "import matplotlib.pyplot as plt\n",
    "import seaborn as sns\n",
    "\n",
    "results = {\n",
    "    \"Model\": [\"Ridge Regression\", \"Lasso Regression\", \"Random Forest\", \"Random Forest\" ,\"Random Forest\", \"Random Forest\", \"Gradient Boosting\", \"Gradient Boosting\", \"Gradient Boosting\", \"XGB Regressor\", \"XGB Regressor\", \"XGB Regressor\"],\n",
    "    \"MSE\": [ridge_mse, lasso_mse, rf_mse_1, rf_mse_1_100, rf_mse_2, rf_mse_2_100, gb_mse_1, gb_mse_2, gb_mse_3, xgb_mse, xgb_mse_1, xgb_mse_2],\n",
    "    \"R² Score\": [ridge_r2, lasso_r2, rf_r2_1, rf_r2_1_100, rf_r2_2, rf_r2_2_100, gb_r2_1, gb_r2_2, gb_r2_3, xgb_r2, xgb_r2_1, xgb_r2_2]\n",
    "}\n",
    "\n",
    "# Convert the results dictionary to a DataFrame\n",
    "results_df = pd.DataFrame(results)\n",
    "\n",
    "# Set the style and size of the plots\n",
    "sns.set(style=\"whitegrid\")\n",
    "plt.figure(figsize=(14, 8))\n",
    "\n",
    "# Create a bar plot for MSE\n",
    "plt.subplot(2, 1, 1)\n",
    "sns.barplot(x=\"MSE\", y=\"Model\", data=results_df, palette=\"viridis\")\n",
    "plt.title('Mean Squared Error (MSE) of Different Models')\n",
    "plt.xlabel('MSE')\n",
    "plt.ylabel('Model')\n",
    "\n",
    "# Create a bar plot for R² Score\n",
    "plt.subplot(2, 1, 2)\n",
    "sns.barplot(x=\"R² Score\", y=\"Model\", data=results_df, palette=\"viridis\")\n",
    "plt.title('R² Score of Different Models')\n",
    "plt.xlabel('R² Score')\n",
    "plt.ylabel('Model')\n",
    "\n",
    "# Adjust the layout to prevent overlap\n",
    "plt.tight_layout()\n",
    "\n",
    "# Show the plots\n",
    "plt.show()"
   ]
  },
  {
   "cell_type": "markdown",
   "metadata": {
    "id": "yWwsxqnVelqn"
   },
   "source": [
    "Note: XGBoost model performs significantly better as it leverages multidimensional data."
   ]
  },
  {
   "cell_type": "markdown",
   "metadata": {
    "id": "UT_Y18Ubelqn"
   },
   "source": [
    "# Feature Engineering"
   ]
  },
  {
   "cell_type": "code",
   "execution_count": null,
   "metadata": {
    "colab": {
     "base_uri": "https://localhost:8080/"
    },
    "execution": {
     "iopub.execute_input": "2024-09-04T19:47:55.5787Z",
     "iopub.status.busy": "2024-09-04T19:47:55.578218Z",
     "iopub.status.idle": "2024-09-04T19:48:11.691537Z",
     "shell.execute_reply": "2024-09-04T19:48:11.690001Z",
     "shell.execute_reply.started": "2024-09-04T19:47:55.578659Z"
    },
    "id": "pfD1rClTelqn",
    "outputId": "50df06cc-350e-45d7-b852-2f3187232320",
    "trusted": true
   },
   "outputs": [],
   "source": [
    "!pip install shap"
   ]
  },
  {
   "cell_type": "markdown",
   "metadata": {
    "id": "veR8dEg8elqn"
   },
   "source": [
    "Shap:"
   ]
  },
  {
   "cell_type": "code",
   "execution_count": null,
   "metadata": {
    "colab": {
     "base_uri": "https://localhost:8080/",
     "height": 193
    },
    "execution": {
     "iopub.execute_input": "2024-09-04T19:51:01.607003Z",
     "iopub.status.busy": "2024-09-04T19:51:01.605727Z",
     "iopub.status.idle": "2024-09-04T19:51:10.827564Z",
     "shell.execute_reply": "2024-09-04T19:51:10.826061Z",
     "shell.execute_reply.started": "2024-09-04T19:51:01.606949Z"
    },
    "id": "gzmMSh0Telqn",
    "outputId": "161a089d-29fa-4918-c877-5d5788804add",
    "trusted": true
   },
   "outputs": [],
   "source": [
    "import shap\n",
    "import matplotlib.pyplot as plt\n",
    "explainer_gb = shap.TreeExplainer(gb_model_1)\n",
    "shap_values_gb = explainer_gb.shap_values(X_test)"
   ]
  },
  {
   "cell_type": "code",
   "execution_count": null,
   "metadata": {
    "execution": {
     "iopub.execute_input": "2024-09-04T19:51:20.620806Z",
     "iopub.status.busy": "2024-09-04T19:51:20.620003Z",
     "iopub.status.idle": "2024-09-04T19:51:35.931017Z",
     "shell.execute_reply": "2024-09-04T19:51:35.92956Z",
     "shell.execute_reply.started": "2024-09-04T19:51:20.620754Z"
    },
    "id": "fem_Sgt0elqn",
    "trusted": true
   },
   "outputs": [],
   "source": [
    "# Visualize the summary plot to understand feature importance and effects\n",
    "shap.summary_plot(shap_values_gb, X_test, plot_type=\"bar\")  # Bar plot for feature importance\n",
    "\n",
    "# Detailed summary plot (beeswarm)\n",
    "shap.summary_plot(shap_values_gb, X_test)\n",
    "\n",
    "shap.dependence_plot(\"size\", shap_values_gb, X_test)\n",
    "\n",
    "shap.force_plot(explainer_gb.expected_value, shap_values_gb[0,:], X_test.iloc[0,:], matplotlib=True)\n",
    "\n",
    "plt.show()"
   ]
  },
  {
   "cell_type": "markdown",
   "metadata": {
    "id": "k-CANNpBelqn"
   },
   "source": [
    "### Removing Low Value Features"
   ]
  },
  {
   "cell_type": "code",
   "execution_count": null,
   "metadata": {
    "execution": {
     "iopub.execute_input": "2024-09-04T19:52:39.090698Z",
     "iopub.status.busy": "2024-09-04T19:52:39.089469Z",
     "iopub.status.idle": "2024-09-04T19:52:39.105888Z",
     "shell.execute_reply": "2024-09-04T19:52:39.104444Z",
     "shell.execute_reply.started": "2024-09-04T19:52:39.090639Z"
    },
    "id": "e9_xRhItelqn",
    "trusted": true
   },
   "outputs": [],
   "source": [
    "# Example of removing low-importance features\n",
    "X_train_fxt = X_train.drop(['month', 'temperature', 'fuel_price', 'markdown1', 'markdown2', 'markdown3', 'markdown4', 'markdown5', 'year'], axis=1)\n",
    "X_test_fxt = X_test.drop(['month', 'temperature', 'fuel_price', 'markdown1', 'markdown2', 'markdown3', 'markdown4', 'markdown5', 'year'], axis=1)"
   ]
  },
  {
   "cell_type": "code",
   "execution_count": null,
   "metadata": {
    "execution": {
     "iopub.execute_input": "2024-09-04T19:52:46.93082Z",
     "iopub.status.busy": "2024-09-04T19:52:46.930239Z",
     "iopub.status.idle": "2024-09-04T19:52:46.956366Z",
     "shell.execute_reply": "2024-09-04T19:52:46.954891Z",
     "shell.execute_reply.started": "2024-09-04T19:52:46.930769Z"
    },
    "id": "7Ip2SirLelqn",
    "trusted": true
   },
   "outputs": [],
   "source": [
    "X_train_fxt"
   ]
  },
  {
   "cell_type": "code",
   "execution_count": null,
   "metadata": {
    "execution": {
     "iopub.execute_input": "2024-09-04T19:52:53.484308Z",
     "iopub.status.busy": "2024-09-04T19:52:53.483866Z",
     "iopub.status.idle": "2024-09-04T19:52:53.502731Z",
     "shell.execute_reply": "2024-09-04T19:52:53.501371Z",
     "shell.execute_reply.started": "2024-09-04T19:52:53.484267Z"
    },
    "id": "ZhCWpadJelqn",
    "trusted": true
   },
   "outputs": [],
   "source": [
    "X_test_fxt"
   ]
  },
  {
   "cell_type": "markdown",
   "metadata": {
    "id": "rSIntjYIelqn"
   },
   "source": [
    "# Modelling : After Feature Engineering"
   ]
  },
  {
   "cell_type": "code",
   "execution_count": null,
   "metadata": {
    "execution": {
     "iopub.execute_input": "2024-09-04T19:53:30.099055Z",
     "iopub.status.busy": "2024-09-04T19:53:30.098608Z",
     "iopub.status.idle": "2024-09-04T19:53:30.107999Z",
     "shell.execute_reply": "2024-09-04T19:53:30.106467Z",
     "shell.execute_reply.started": "2024-09-04T19:53:30.099015Z"
    },
    "id": "c_WY_TOIelqn",
    "trusted": true
   },
   "outputs": [],
   "source": [
    "from sklearn.ensemble import RandomForestRegressor, GradientBoostingRegressor"
   ]
  },
  {
   "cell_type": "code",
   "execution_count": null,
   "metadata": {
    "execution": {
     "iopub.execute_input": "2024-09-04T19:54:48.90139Z",
     "iopub.status.busy": "2024-09-04T19:54:48.900823Z",
     "iopub.status.idle": "2024-09-04T19:55:11.047349Z",
     "shell.execute_reply": "2024-09-04T19:55:11.045768Z",
     "shell.execute_reply.started": "2024-09-04T19:54:48.901342Z"
    },
    "id": "mjy3rBfGelqn",
    "trusted": true
   },
   "outputs": [],
   "source": [
    "#Model: Gradient Boosting Regressor\n",
    "import time\n",
    "start_time = time.time()\n",
    "gb_model_1 = GradientBoostingRegressor(n_estimators=50, random_state=42)\n",
    "gb_model_1.fit(X_train_fxt, y_train)\n",
    "gb_pred_1 = gb_model_1.predict(X_test_fxt)\n",
    "gb_mse_1 = mean_squared_error(y_test, gb_pred_1)\n",
    "gb_r2_1 = r2_score(y_test, gb_pred_1)\n",
    "end_time = time.time()\n",
    "\n",
    "# Calculate the execution time in minutes\n",
    "execution_time = (end_time - start_time) / 60\n",
    "print(\"Execution Time: \", execution_time)\n",
    "print(\"R^2 VALUE: \", gb_r2_1)"
   ]
  },
  {
   "cell_type": "code",
   "execution_count": null,
   "metadata": {
    "execution": {
     "iopub.execute_input": "2024-09-04T19:55:33.54871Z",
     "iopub.status.busy": "2024-09-04T19:55:33.547863Z",
     "iopub.status.idle": "2024-09-04T19:56:18.152438Z",
     "shell.execute_reply": "2024-09-04T19:56:18.151037Z",
     "shell.execute_reply.started": "2024-09-04T19:55:33.548645Z"
    },
    "id": "37kPBq0welqo",
    "trusted": true
   },
   "outputs": [],
   "source": [
    "start_time = time.time()\n",
    "gb_model_2 = GradientBoostingRegressor(n_estimators=100, random_state=42)\n",
    "gb_model_2.fit(X_train_fxt, y_train)\n",
    "gb_pred_2 = gb_model_2.predict(X_test_fxt)\n",
    "gb_mse_2 = mean_squared_error(y_test, gb_pred_2)\n",
    "gb_r2_2 = r2_score(y_test, gb_pred_2)\n",
    "end_time = time.time()\n",
    "\n",
    "# Calculate the execution time in minutes\n",
    "execution_time = (end_time - start_time) / 60\n",
    "print(\"Execution Time: \", execution_time)\n",
    "print(\"R^2 VALUE: \", gb_r2_2)"
   ]
  },
  {
   "cell_type": "code",
   "execution_count": null,
   "metadata": {
    "execution": {
     "iopub.execute_input": "2024-09-04T19:56:18.727067Z",
     "iopub.status.busy": "2024-09-04T19:56:18.726552Z",
     "iopub.status.idle": "2024-09-04T19:57:45.298498Z",
     "shell.execute_reply": "2024-09-04T19:57:45.296932Z",
     "shell.execute_reply.started": "2024-09-04T19:56:18.727022Z"
    },
    "id": "hO733YFkelqo",
    "trusted": true
   },
   "outputs": [],
   "source": [
    "start_time = time.time()\n",
    "gb_model_3 = GradientBoostingRegressor(n_estimators=200, random_state=42)\n",
    "gb_model_3.fit(X_train_fxt, y_train)\n",
    "gb_pred_3 = gb_model_3.predict(X_test_fxt)\n",
    "gb_mse_3 = mean_squared_error(y_test, gb_pred_3)\n",
    "gb_r2_3 = r2_score(y_test, gb_pred_3)\n",
    "end_time = time.time()\n",
    "\n",
    "# Calculate the execution time in minutes\n",
    "execution_time = (end_time - start_time) / 60\n",
    "print(\"Execution Time: \", execution_time)\n",
    "print(\"R^2 VALUE: \", gb_r2_3)"
   ]
  },
  {
   "cell_type": "markdown",
   "metadata": {
    "id": "Flhx_sfDelqo"
   },
   "source": [
    "### LightGBM"
   ]
  },
  {
   "cell_type": "code",
   "execution_count": null,
   "metadata": {
    "execution": {
     "iopub.execute_input": "2024-09-04T20:09:21.423065Z",
     "iopub.status.busy": "2024-09-04T20:09:21.422544Z",
     "iopub.status.idle": "2024-09-04T20:09:25.967036Z",
     "shell.execute_reply": "2024-09-04T20:09:25.965749Z",
     "shell.execute_reply.started": "2024-09-04T20:09:21.423019Z"
    },
    "id": "fKjlwvvjelqo",
    "trusted": true
   },
   "outputs": [],
   "source": [
    "import lightgbm as lgb\n",
    "from sklearn.metrics import r2_score, mean_absolute_error, mean_squared_error\n",
    "\n",
    "# Initialize and fit the LightGBM regressor model\n",
    "lgb_regressor = lgb.LGBMRegressor(n_estimators=100, learning_rate=0.1)\n",
    "lgb_regressor.fit(X_train, y_train)\n",
    "\n",
    "# Make predictions\n",
    "lgb_predictions = lgb_regressor.predict(X_test)\n",
    "\n",
    "# Calculate R² value using the score method\n",
    "r2_value_score_method = lgb_regressor.score(X_test, y_test)\n",
    "\n",
    "# Calculate R² value using the r2_score function\n",
    "r2_value_function = r2_score(y_test, lgb_predictions)\n",
    "\n",
    "# Calculate Mean Absolute Error (MAE)\n",
    "mae = mean_absolute_error(y_test, lgb_predictions)\n",
    "\n",
    "# Calculate Mean Squared Error (MSE)\n",
    "mse = mean_squared_error(y_test, lgb_predictions)\n",
    "\n",
    "# Calculate Root Mean Squared Error (RMSE)\n",
    "rmse = mse ** 0.5\n",
    "\n",
    "print(f\"R² value using score method: {r2_value_score_method}\")\n",
    "print(f\"R² value using r2_score function: {r2_value_function}\")\n",
    "print(f\"Mean Absolute Error (MAE): {mae}\")\n",
    "print(f\"Mean Squared Error (MSE): {mse}\")\n",
    "print(f\"Root Mean Squared Error (RMSE): {rmse}\")"
   ]
  },
  {
   "cell_type": "code",
   "execution_count": null,
   "metadata": {
    "execution": {
     "iopub.execute_input": "2024-09-04T20:10:59.138691Z",
     "iopub.status.busy": "2024-09-04T20:10:59.138236Z",
     "iopub.status.idle": "2024-09-04T20:10:59.723139Z",
     "shell.execute_reply": "2024-09-04T20:10:59.72152Z",
     "shell.execute_reply.started": "2024-09-04T20:10:59.138651Z"
    },
    "id": "JlFnhX2kelqo",
    "trusted": true
   },
   "outputs": [],
   "source": [
    "# Get feature importances\n",
    "feature_importances = lgb_regressor.feature_importances_\n",
    "features = X_train.columns\n",
    "\n",
    "# Sort features by importance\n",
    "indices = np.argsort(feature_importances)[::-1]\n",
    "sorted_features = features[indices]\n",
    "sorted_importances = feature_importances[indices]\n",
    "\n",
    "# Plot feature importances\n",
    "plt.figure(figsize=(10, 6))\n",
    "plt.bar(range(len(sorted_features)), sorted_importances, align='center')\n",
    "plt.xticks(range(len(sorted_features)), sorted_features, rotation=90)\n",
    "plt.title('Feature Importances in LightGBM Model')\n",
    "plt.xlabel('Feature')\n",
    "plt.ylabel('Importance')\n",
    "plt.tight_layout()\n",
    "plt.show()"
   ]
  },
  {
   "cell_type": "code",
   "execution_count": null,
   "metadata": {
    "execution": {
     "iopub.execute_input": "2024-09-04T20:10:40.118288Z",
     "iopub.status.busy": "2024-09-04T20:10:40.117775Z",
     "iopub.status.idle": "2024-09-04T20:10:41.044601Z",
     "shell.execute_reply": "2024-09-04T20:10:41.043139Z",
     "shell.execute_reply.started": "2024-09-04T20:10:40.118242Z"
    },
    "id": "5I1Be4Kzelqo",
    "trusted": true
   },
   "outputs": [],
   "source": [
    "# Select a subset of the test data for visualization\n",
    "n = 100  # Number of points to plot\n",
    "y_test_subset = y_test[:n].values\n",
    "\n",
    "# Create subplots\n",
    "fig, ax = plt.subplots(2, 1, figsize=(15,12))\n",
    "\n",
    "# First subplot: LGB Predictions\n",
    "ax[0].plot(lgb_predictions[:n], label=\"LGB Predictions\", linewidth=2.0, color='maroon')\n",
    "ax[0].set_title('LGB Predictions', fontsize=16)\n",
    "ax[0].legend(loc=\"best\")\n",
    "\n",
    "# Second subplot: Actual values\n",
    "ax[1].plot(y_test_subset, label=\"Actual Values\", linewidth=2.0, color='red')\n",
    "ax[1].set_title('Actual Values', fontsize=16)\n",
    "ax[1].legend(loc=\"best\")\n",
    "\n",
    "# Adjust the layout\n",
    "plt.tight_layout()\n",
    "\n",
    "# Show the plot\n",
    "plt.show()"
   ]
  },
  {
   "cell_type": "markdown",
   "metadata": {
    "id": "k02pkPXpelqo"
   },
   "source": [
    "# Forecasting : ARIMA, Modified ARIMA, SARIMA"
   ]
  },
  {
   "cell_type": "markdown",
   "metadata": {
    "id": "ykbryK5Melqo"
   },
   "source": [
    "## ARIMA"
   ]
  },
  {
   "cell_type": "code",
   "execution_count": null,
   "metadata": {
    "execution": {
     "iopub.execute_input": "2024-09-04T20:11:36.158543Z",
     "iopub.status.busy": "2024-09-04T20:11:36.158061Z",
     "iopub.status.idle": "2024-09-04T20:11:36.823897Z",
     "shell.execute_reply": "2024-09-04T20:11:36.822367Z",
     "shell.execute_reply.started": "2024-09-04T20:11:36.158497Z"
    },
    "id": "JBgFlAVEelqo",
    "trusted": true
   },
   "outputs": [],
   "source": [
    "from statsmodels.tsa.arima.model import ARIMA"
   ]
  },
  {
   "cell_type": "code",
   "execution_count": null,
   "metadata": {
    "execution": {
     "iopub.execute_input": "2024-09-04T20:11:45.309158Z",
     "iopub.status.busy": "2024-09-04T20:11:45.308231Z",
     "iopub.status.idle": "2024-09-04T20:11:45.367233Z",
     "shell.execute_reply": "2024-09-04T20:11:45.36556Z",
     "shell.execute_reply.started": "2024-09-04T20:11:45.309105Z"
    },
    "id": "zFHH-TtWelqo",
    "trusted": true
   },
   "outputs": [],
   "source": [
    "data['date'] = pd.to_datetime(data['date'])\n",
    "\n",
    "# Aggregate the data by week\n",
    "weekly_sales = data.groupby('date')['weekly_sales'].sum().reset_index()\n",
    "\n",
    "# Set the date as the index\n",
    "weekly_sales.set_index('date', inplace=True)"
   ]
  },
  {
   "cell_type": "code",
   "execution_count": null,
   "metadata": {
    "execution": {
     "iopub.execute_input": "2024-09-04T20:11:56.654906Z",
     "iopub.status.busy": "2024-09-04T20:11:56.654407Z",
     "iopub.status.idle": "2024-09-04T20:11:56.662386Z",
     "shell.execute_reply": "2024-09-04T20:11:56.66068Z",
     "shell.execute_reply.started": "2024-09-04T20:11:56.654839Z"
    },
    "id": "opTwUu_Belqo",
    "trusted": true
   },
   "outputs": [],
   "source": [
    "# Define the training period\n",
    "train = weekly_sales.iloc[:-52]  # Use all but the last year for training\n",
    "test = weekly_sales.iloc[-52:]   # Use the last year for testing"
   ]
  },
  {
   "cell_type": "code",
   "execution_count": null,
   "metadata": {
    "execution": {
     "iopub.execute_input": "2024-09-04T20:12:08.284431Z",
     "iopub.status.busy": "2024-09-04T20:12:08.283971Z",
     "iopub.status.idle": "2024-09-04T20:12:08.385867Z",
     "shell.execute_reply": "2024-09-04T20:12:08.384184Z",
     "shell.execute_reply.started": "2024-09-04T20:12:08.284387Z"
    },
    "id": "iPCb3ieyelqo",
    "trusted": true
   },
   "outputs": [],
   "source": [
    "# Fit the ARIMA model\n",
    "model = ARIMA(train, order=(5,1,0))  # (p,d,q) parameters can be tuned\n",
    "model_fit = model.fit()"
   ]
  },
  {
   "cell_type": "code",
   "execution_count": null,
   "metadata": {
    "execution": {
     "iopub.execute_input": "2024-09-04T20:12:18.313111Z",
     "iopub.status.busy": "2024-09-04T20:12:18.312042Z",
     "iopub.status.idle": "2024-09-04T20:12:18.93978Z",
     "shell.execute_reply": "2024-09-04T20:12:18.938529Z",
     "shell.execute_reply.started": "2024-09-04T20:12:18.31306Z"
    },
    "id": "AUtHSgrCelqo",
    "trusted": true
   },
   "outputs": [],
   "source": [
    "# Forecast for the test period\n",
    "forecast = model_fit.forecast(steps=len(test))\n",
    "\n",
    "# Plot the forecast against the actual values\n",
    "plt.figure(figsize=(10, 6))\n",
    "plt.plot(train.index, train, label='Training')\n",
    "plt.plot(test.index, test, label='Actual')\n",
    "plt.plot(test.index, forecast, label='Forecast')\n",
    "plt.legend(loc='upper left')\n",
    "plt.title('Weekly Sales Forecasting')\n",
    "plt.show()"
   ]
  },
  {
   "cell_type": "markdown",
   "metadata": {
    "id": "AdFcmwIIelqo"
   },
   "source": [
    "## Tuning ARIMA Model"
   ]
  },
  {
   "cell_type": "code",
   "execution_count": null,
   "metadata": {
    "execution": {
     "iopub.execute_input": "2024-09-04T20:12:38.844907Z",
     "iopub.status.busy": "2024-09-04T20:12:38.8439Z",
     "iopub.status.idle": "2024-09-04T20:13:01.702252Z",
     "shell.execute_reply": "2024-09-04T20:13:01.700994Z",
     "shell.execute_reply.started": "2024-09-04T20:12:38.844824Z"
    },
    "id": "8fbqcAwCelqo",
    "trusted": true
   },
   "outputs": [],
   "source": [
    "from statsmodels.tsa.arima.model import ARIMA\n",
    "import pandas as pd\n",
    "import numpy as np\n",
    "\n",
    "data['date'] = pd.to_datetime(data['date'])\n",
    "\n",
    "# Aggregate the data by week\n",
    "weekly_sales = data.groupby('date')['weekly_sales'].sum().reset_index()\n",
    "\n",
    "# Set the date as the index\n",
    "weekly_sales.set_index('date', inplace=True)\n",
    "\n",
    "# Define the training period\n",
    "train = weekly_sales.iloc[:-52]  # Use all but the last year for training\n",
    "test = weekly_sales.iloc[-52:]   # Use the last year for testing\n",
    "\n",
    "# Grid search for ARIMA parameters\n",
    "best_aic = np.inf\n",
    "best_order = None\n",
    "best_model = None\n",
    "\n",
    "# Define a range of p, d, q values to try\n",
    "p_values = range(0, 6)\n",
    "d_values = range(0, 2)\n",
    "q_values = range(0, 6)\n",
    "\n",
    "for p in p_values:\n",
    "    for d in d_values:\n",
    "        for q in q_values:\n",
    "            try:\n",
    "                model = ARIMA(train, order=(p, d, q))\n",
    "                model_fit = model.fit()\n",
    "                aic = model_fit.aic\n",
    "                if aic < best_aic:\n",
    "                    best_aic = aic\n",
    "                    best_order = (p, d, q)\n",
    "                    best_model = model_fit\n",
    "            except Exception as e:\n",
    "                continue\n",
    "\n",
    "print(f\"Best ARIMA order: {best_order} with AIC: {best_aic}\")\n",
    "\n",
    "# Use the best model for predictions\n",
    "predictions = best_model.forecast(steps=len(test))\n",
    "\n",
    "# Evaluate the model\n",
    "from sklearn.metrics import mean_squared_error\n",
    "mse = mean_squared_error(test, predictions)\n",
    "rmse = np.sqrt(mse)\n",
    "\n",
    "print(f\"RMSE for best ARIMA model: {rmse}\")"
   ]
  },
  {
   "cell_type": "code",
   "execution_count": null,
   "metadata": {
    "execution": {
     "iopub.execute_input": "2024-09-04T20:13:01.711369Z",
     "iopub.status.busy": "2024-09-04T20:13:01.708276Z",
     "iopub.status.idle": "2024-09-04T20:13:02.420376Z",
     "shell.execute_reply": "2024-09-04T20:13:02.418703Z",
     "shell.execute_reply.started": "2024-09-04T20:13:01.711301Z"
    },
    "id": "rmbdC7xLelqo",
    "trusted": true
   },
   "outputs": [],
   "source": [
    "# Forecast for the test period\n",
    "forecast = model_fit.forecast(steps=len(test))\n",
    "\n",
    "# Plot the forecast against the actual values\n",
    "plt.figure(figsize=(10, 6))\n",
    "plt.plot(train.index, train, label='Training')\n",
    "plt.plot(test.index, test, label='Actual')\n",
    "plt.plot(test.index, forecast, label='Forecast')\n",
    "plt.legend(loc='upper left')\n",
    "plt.title('Weekly Sales Forecasting')\n",
    "plt.show()"
   ]
  },
  {
   "cell_type": "markdown",
   "metadata": {
    "id": "ZDxC3gM8elqo"
   },
   "source": [
    "## SARIMA"
   ]
  },
  {
   "cell_type": "code",
   "execution_count": null,
   "metadata": {
    "execution": {
     "iopub.execute_input": "2024-09-04T20:13:33.113887Z",
     "iopub.status.busy": "2024-09-04T20:13:33.113393Z",
     "iopub.status.idle": "2024-09-04T20:16:53.011699Z",
     "shell.execute_reply": "2024-09-04T20:16:53.010478Z",
     "shell.execute_reply.started": "2024-09-04T20:13:33.113816Z"
    },
    "id": "Ww2I2bzIelqo",
    "trusted": true
   },
   "outputs": [],
   "source": [
    "import pandas as pd\n",
    "import numpy as np\n",
    "from statsmodels.tsa.arima.model import ARIMA\n",
    "from statsmodels.tsa.statespace.sarimax import SARIMAX\n",
    "from sklearn.metrics import mean_squared_error\n",
    "from tqdm import tqdm\n",
    "\n",
    "data['date'] = pd.to_datetime(data['date'])\n",
    "\n",
    "# Aggregate the data by week\n",
    "weekly_sales = data.groupby('date')['weekly_sales'].sum().reset_index()\n",
    "\n",
    "# Set the date as the index\n",
    "weekly_sales.set_index('date', inplace=True)\n",
    "\n",
    "# Define the training period\n",
    "train = weekly_sales.iloc[:-52]\n",
    "test = weekly_sales.iloc[-52:]\n",
    "\n",
    "# Grid search for ARIMA/SARIMA parameters\n",
    "best_aic = np.inf\n",
    "best_order = None\n",
    "best_seasonal_order = None\n",
    "best_model = None\n",
    "\n",
    "# Define a range of p, d, q values to try\n",
    "p_values = range(0, 3)\n",
    "d_values = range(0, 2)\n",
    "q_values = range(0, 3)\n",
    "P_values = range(0, 2)\n",
    "D_values = range(0, 2)\n",
    "Q_values = range(0, 2)\n",
    "S = 52  # Assuming weekly seasonality\n",
    "\n",
    "for p in tqdm(p_values):\n",
    "    for d in d_values:\n",
    "        for q in q_values:\n",
    "            for P in P_values:\n",
    "                for D in D_values:\n",
    "                    for Q in Q_values:\n",
    "                        try:\n",
    "                            model = SARIMAX(train, order=(p, d, q), seasonal_order=(P, D, Q, S), enforce_stationarity=False, enforce_invertibility=False)\n",
    "                            model_fit = model.fit(disp=False)\n",
    "                            aic = model_fit.aic\n",
    "                            if aic < best_aic:\n",
    "                                best_aic = aic\n",
    "                                best_order = (p, d, q)\n",
    "                                best_seasonal_order = (P, D, Q, S)\n",
    "                                best_model = model_fit\n",
    "                        except Exception as e:\n",
    "                            continue\n",
    "\n",
    "print(f\"Best SARIMA order: {best_order} with seasonal order: {best_seasonal_order} and AIC: {best_aic}\")\n",
    "\n",
    "# Walk-forward validation\n",
    "predictions = []\n",
    "for i in range(len(test)):\n",
    "    train_data = weekly_sales.iloc[:-(52-i)]\n",
    "    model = SARIMAX(train_data, order=best_order, seasonal_order=best_seasonal_order, enforce_stationarity=False, enforce_invertibility=False)\n",
    "    model_fit = model.fit(disp=False)\n",
    "    forecast = model_fit.forecast(steps=1)\n",
    "    predictions.append(forecast.values[0])\n",
    "\n",
    "# Evaluate the model\n",
    "mse = mean_squared_error(test, predictions)\n",
    "rmse = np.sqrt(mse)\n",
    "\n",
    "print(f\"RMSE for best SARIMA model: {rmse}\")\n"
   ]
  },
  {
   "cell_type": "code",
   "execution_count": null,
   "metadata": {
    "execution": {
     "iopub.execute_input": "2024-09-04T20:17:08.681714Z",
     "iopub.status.busy": "2024-09-04T20:17:08.681196Z",
     "iopub.status.idle": "2024-09-04T20:17:09.636901Z",
     "shell.execute_reply": "2024-09-04T20:17:09.635299Z",
     "shell.execute_reply.started": "2024-09-04T20:17:08.681657Z"
    },
    "id": "yad1noWtelqo",
    "trusted": true
   },
   "outputs": [],
   "source": [
    "# Forecast for the test period\n",
    "forecast = model_fit.forecast(steps=len(test))\n",
    "\n",
    "# Plot the forecast against the actual values\n",
    "plt.figure(figsize=(10, 6))\n",
    "plt.plot(train.index, train, label='Training')\n",
    "plt.plot(test.index, test, label='Actual')\n",
    "plt.plot(test.index, forecast, label='Forecast')\n",
    "plt.legend(loc='upper left')\n",
    "plt.title('Weekly Sales Forecasting')\n",
    "plt.show()"
   ]
  },
  {
   "cell_type": "code",
   "execution_count": null,
   "metadata": {
    "execution": {
     "iopub.execute_input": "2024-09-04T20:17:13.047567Z",
     "iopub.status.busy": "2024-09-04T20:17:13.047093Z",
     "iopub.status.idle": "2024-09-04T20:17:14.136774Z",
     "shell.execute_reply": "2024-09-04T20:17:14.13512Z",
     "shell.execute_reply.started": "2024-09-04T20:17:13.047523Z"
    },
    "id": "d1CTb9TDelqo",
    "trusted": true
   },
   "outputs": [],
   "source": [
    "import matplotlib.pyplot as plt\n",
    "\n",
    "# Forecast for the test period\n",
    "forecast = best_model.forecast(steps=len(test))\n",
    "\n",
    "# Plot the training and test data with forecasts in two subplots\n",
    "fig, (ax1, ax2) = plt.subplots(2, 1, figsize=(10, 8), sharex=True)\n",
    "\n",
    "# Upper subplot for training data\n",
    "ax1.plot(train.index, train, label='Training Data')\n",
    "ax1.set_title('Training Data')\n",
    "ax1.legend(loc='upper left')\n",
    "\n",
    "# Lower subplot for test data and forecasts\n",
    "ax2.plot(test.index, test, label='Actual Test Data', color='blue')\n",
    "ax2.plot(test.index, forecast, label='Forecasted Data', color='orange')\n",
    "ax2.set_title('Test Data vs. Forecast')\n",
    "ax2.legend(loc='upper left')\n",
    "\n",
    "# Set common x-axis label and overall title\n",
    "fig.suptitle('Weekly Sales Forecasting')\n",
    "plt.xlabel('Date')\n",
    "plt.show()"
   ]
  },
  {
   "cell_type": "code",
   "execution_count": null,
   "metadata": {
    "execution": {
     "iopub.execute_input": "2024-09-04T20:17:17.809505Z",
     "iopub.status.busy": "2024-09-04T20:17:17.809025Z",
     "iopub.status.idle": "2024-09-04T20:17:19.336453Z",
     "shell.execute_reply": "2024-09-04T20:17:19.335099Z",
     "shell.execute_reply.started": "2024-09-04T20:17:17.809452Z"
    },
    "id": "9JlAViawelqp",
    "trusted": true
   },
   "outputs": [],
   "source": [
    "# Forecast for the test period\n",
    "forecast = best_model.forecast(steps=len(test))\n",
    "\n",
    "# Plot the training and test data in the upper plot, and forecast vs. actual test data in the lower plot\n",
    "fig, (ax1, ax2) = plt.subplots(2, 1, figsize=(12, 8), sharex=True)\n",
    "\n",
    "# Upper subplot for training and test data\n",
    "ax1.plot(train.index, train, label='Training Data', color='blue')\n",
    "ax1.plot(test.index, test, label='Test Data', color='green')\n",
    "ax1.set_title('Training and Test Data')\n",
    "ax1.legend(loc='upper left')\n",
    "\n",
    "# Lower subplot for forecast vs. actual test data\n",
    "# ax2.plot(test.index, test, label='Actual Test Data', color='green')\n",
    "ax2.plot(test.index, forecast, label='Forecasted Data', color='orange', linestyle='--')\n",
    "ax2.set_title('Forecast vs. Actual Test Data')\n",
    "ax2.legend(loc='upper left')\n",
    "\n",
    "# Set common labels\n",
    "fig.suptitle('Weekly Sales Forecasting')\n",
    "plt.xlabel('Date')\n",
    "plt.tight_layout(rect=[0, 0, 1, 0.96])\n",
    "plt.show()"
   ]
  },
  {
   "cell_type": "code",
   "execution_count": null,
   "metadata": {
    "colab": {
     "base_uri": "https://localhost:8080/",
     "height": 141
    },
    "execution": {
     "iopub.execute_input": "2024-09-04T20:17:22.896922Z",
     "iopub.status.busy": "2024-09-04T20:17:22.895972Z",
     "iopub.status.idle": "2024-09-04T20:17:22.909066Z",
     "shell.execute_reply": "2024-09-04T20:17:22.907726Z",
     "shell.execute_reply.started": "2024-09-04T20:17:22.89687Z"
    },
    "id": "TOcjgjjaelqp",
    "outputId": "e6463c2c-1c26-425d-bfdc-e7e2f4088f56",
    "trusted": true
   },
   "outputs": [],
   "source": [
    "from sklearn.metrics import mean_absolute_error, mean_squared_error\n",
    "\n",
    "# Calculate MAE\n",
    "mae = mean_absolute_error(test, predictions)\n",
    "\n",
    "# Calculate RMSE\n",
    "rmse = np.sqrt(mean_squared_error(test, predictions))\n",
    "\n",
    "# Calculate MAPE\n",
    "mape = np.mean(np.abs((test.values - predictions) / test.values)) * 100\n",
    "\n",
    "# Calculate Accuracy as a Percentage (1 - MAPE/100)\n",
    "accuracy_percentage = 100 - mape\n",
    "\n",
    "# Print the evaluation metrics\n",
    "print(f\"Mean Absolute Error (MAE): {mae}\")\n",
    "print(f\"Root Mean Squared Error (RMSE): {rmse}\")\n",
    "print(f\"Mean Absolute Percentage Error (MAPE): {mape}%\")\n",
    "print(f\"Accuracy: {accuracy_percentage}%\")"
   ]
  }
 ],
 "metadata": {
  "colab": {
   "name": "Walmart Sales EDA + Modelling + Forecasting ",
   "provenance": []
  },
  "kaggle": {
   "accelerator": "none",
   "dataSources": [
    {
     "datasetId": 2107830,
     "sourceId": 3502310,
     "sourceType": "datasetVersion"
    },
    {
     "datasetId": 5645448,
     "sourceId": 9319946,
     "sourceType": "datasetVersion"
    }
   ],
   "dockerImageVersionId": 30761,
   "isGpuEnabled": false,
   "isInternetEnabled": false,
   "language": "python",
   "sourceType": "notebook"
  },
  "kernelspec": {
   "display_name": "Python 3",
   "language": "python",
   "name": "python3"
  },
  "language_info": {
   "codemirror_mode": {
    "name": "ipython",
    "version": 3
   },
   "file_extension": ".py",
   "mimetype": "text/x-python",
   "name": "python",
   "nbconvert_exporter": "python",
   "pygments_lexer": "ipython3",
   "version": "3.9.6"
  }
 },
 "nbformat": 4,
 "nbformat_minor": 0
}
